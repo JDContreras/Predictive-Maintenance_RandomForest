{
 "cells": [
  {
   "cell_type": "markdown",
   "id": "38626c46-0abc-4db3-b4c8-3372cafa1611",
   "metadata": {},
   "source": [
    "# Importar las librerias\n",
    "Para este ejercicio debemos usar pandas para el manejo del conjunto de datos y sklearn como libreria de ML para entrenar y evaluar los modelos"
   ]
  },
  {
   "cell_type": "code",
   "execution_count": null,
   "id": "c2097edb-3e93-4c7e-a436-e7d351365cfb",
   "metadata": {},
   "outputs": [],
   "source": [
    "import pandas as pd\n",
    "import numpy as np\n",
    "from sklearn import tree\n",
    "from sklearn.ensemble import RandomForestClassifier\n",
    "from sklearn.tree import DecisionTreeClassifier\n",
    "from sklearn.model_selection import train_test_split\n",
    "from sklearn import metrics \n",
    "from sklearn.model_selection import cross_val_score"
   ]
  },
  {
   "cell_type": "markdown",
   "id": "7fc5647a-3ff2-4249-8bf9-bcb444340e96",
   "metadata": {},
   "source": [
    "# EDA - Machine Predictive Maintenance Classification\n",
    "Usaremos un dataset para matenimiento predictivo que fue ya preparado para un ejercicio de clasificacion, donde se debe usar los datos con dos objetivos:\n",
    "1. determinar su hay falla\n",
    "2. determinar el tipo de falla\n",
    "\n",
    "las columnas son:\n",
    "* Type: calidad del producto, alta (H) media (M) o baja (L))\n",
    "* Air temperature [K]: Temperatura medida del ambiente\n",
    "* Process temperature [K]: temperatura medida del proceso\n",
    "* Rotational speed [rpm]: velocidad calculada a partir de la pontencia\n",
    "* Torque [Nm]: torque\n",
    "* Tool wear [min]: desgaste por minuto\n",
    "* target: hay falla o no\n",
    "* Failure Type: tipo de falla si la hay\n",
    "\n",
    "Se puede visualizar y explorar mas el dataset en https://www.kaggle.com/shivamb/machine-predictive-maintenance-classification"
   ]
  },
  {
   "cell_type": "markdown",
   "id": "2636e890-f8c8-4f5a-ae3a-4ccc4088dce8",
   "metadata": {},
   "source": [
    "Importamos los datos desde el CSV y vemos las primeras filas:"
   ]
  },
  {
   "cell_type": "code",
   "execution_count": 199,
   "id": "f86f5b6e-5679-467a-8790-f6893b78a6fa",
   "metadata": {},
   "outputs": [
    {
     "data": {
      "text/html": [
       "<div>\n",
       "<style scoped>\n",
       "    .dataframe tbody tr th:only-of-type {\n",
       "        vertical-align: middle;\n",
       "    }\n",
       "\n",
       "    .dataframe tbody tr th {\n",
       "        vertical-align: top;\n",
       "    }\n",
       "\n",
       "    .dataframe thead th {\n",
       "        text-align: right;\n",
       "    }\n",
       "</style>\n",
       "<table border=\"1\" class=\"dataframe\">\n",
       "  <thead>\n",
       "    <tr style=\"text-align: right;\">\n",
       "      <th></th>\n",
       "      <th>UDI</th>\n",
       "      <th>Product ID</th>\n",
       "      <th>Type</th>\n",
       "      <th>Air temperature [K]</th>\n",
       "      <th>Process temperature [K]</th>\n",
       "      <th>Rotational speed [rpm]</th>\n",
       "      <th>Torque [Nm]</th>\n",
       "      <th>Tool wear [min]</th>\n",
       "      <th>Target</th>\n",
       "      <th>Failure Type</th>\n",
       "    </tr>\n",
       "  </thead>\n",
       "  <tbody>\n",
       "    <tr>\n",
       "      <th>0</th>\n",
       "      <td>1</td>\n",
       "      <td>M14860</td>\n",
       "      <td>M</td>\n",
       "      <td>298.1</td>\n",
       "      <td>308.6</td>\n",
       "      <td>1551</td>\n",
       "      <td>42.8</td>\n",
       "      <td>0</td>\n",
       "      <td>0</td>\n",
       "      <td>No Failure</td>\n",
       "    </tr>\n",
       "    <tr>\n",
       "      <th>1</th>\n",
       "      <td>2</td>\n",
       "      <td>L47181</td>\n",
       "      <td>L</td>\n",
       "      <td>298.2</td>\n",
       "      <td>308.7</td>\n",
       "      <td>1408</td>\n",
       "      <td>46.3</td>\n",
       "      <td>3</td>\n",
       "      <td>0</td>\n",
       "      <td>No Failure</td>\n",
       "    </tr>\n",
       "    <tr>\n",
       "      <th>2</th>\n",
       "      <td>3</td>\n",
       "      <td>L47182</td>\n",
       "      <td>L</td>\n",
       "      <td>298.1</td>\n",
       "      <td>308.5</td>\n",
       "      <td>1498</td>\n",
       "      <td>49.4</td>\n",
       "      <td>5</td>\n",
       "      <td>0</td>\n",
       "      <td>No Failure</td>\n",
       "    </tr>\n",
       "    <tr>\n",
       "      <th>3</th>\n",
       "      <td>4</td>\n",
       "      <td>L47183</td>\n",
       "      <td>L</td>\n",
       "      <td>298.2</td>\n",
       "      <td>308.6</td>\n",
       "      <td>1433</td>\n",
       "      <td>39.5</td>\n",
       "      <td>7</td>\n",
       "      <td>0</td>\n",
       "      <td>No Failure</td>\n",
       "    </tr>\n",
       "    <tr>\n",
       "      <th>4</th>\n",
       "      <td>5</td>\n",
       "      <td>L47184</td>\n",
       "      <td>L</td>\n",
       "      <td>298.2</td>\n",
       "      <td>308.7</td>\n",
       "      <td>1408</td>\n",
       "      <td>40.0</td>\n",
       "      <td>9</td>\n",
       "      <td>0</td>\n",
       "      <td>No Failure</td>\n",
       "    </tr>\n",
       "    <tr>\n",
       "      <th>5</th>\n",
       "      <td>6</td>\n",
       "      <td>M14865</td>\n",
       "      <td>M</td>\n",
       "      <td>298.1</td>\n",
       "      <td>308.6</td>\n",
       "      <td>1425</td>\n",
       "      <td>41.9</td>\n",
       "      <td>11</td>\n",
       "      <td>0</td>\n",
       "      <td>No Failure</td>\n",
       "    </tr>\n",
       "    <tr>\n",
       "      <th>6</th>\n",
       "      <td>7</td>\n",
       "      <td>L47186</td>\n",
       "      <td>L</td>\n",
       "      <td>298.1</td>\n",
       "      <td>308.6</td>\n",
       "      <td>1558</td>\n",
       "      <td>42.4</td>\n",
       "      <td>14</td>\n",
       "      <td>0</td>\n",
       "      <td>No Failure</td>\n",
       "    </tr>\n",
       "    <tr>\n",
       "      <th>7</th>\n",
       "      <td>8</td>\n",
       "      <td>L47187</td>\n",
       "      <td>L</td>\n",
       "      <td>298.1</td>\n",
       "      <td>308.6</td>\n",
       "      <td>1527</td>\n",
       "      <td>40.2</td>\n",
       "      <td>16</td>\n",
       "      <td>0</td>\n",
       "      <td>No Failure</td>\n",
       "    </tr>\n",
       "    <tr>\n",
       "      <th>8</th>\n",
       "      <td>9</td>\n",
       "      <td>M14868</td>\n",
       "      <td>M</td>\n",
       "      <td>298.3</td>\n",
       "      <td>308.7</td>\n",
       "      <td>1667</td>\n",
       "      <td>28.6</td>\n",
       "      <td>18</td>\n",
       "      <td>0</td>\n",
       "      <td>No Failure</td>\n",
       "    </tr>\n",
       "    <tr>\n",
       "      <th>9</th>\n",
       "      <td>10</td>\n",
       "      <td>M14869</td>\n",
       "      <td>M</td>\n",
       "      <td>298.5</td>\n",
       "      <td>309.0</td>\n",
       "      <td>1741</td>\n",
       "      <td>28.0</td>\n",
       "      <td>21</td>\n",
       "      <td>0</td>\n",
       "      <td>No Failure</td>\n",
       "    </tr>\n",
       "  </tbody>\n",
       "</table>\n",
       "</div>"
      ],
      "text/plain": [
       "   UDI Product ID Type  Air temperature [K]  Process temperature [K]  \\\n",
       "0    1     M14860    M                298.1                    308.6   \n",
       "1    2     L47181    L                298.2                    308.7   \n",
       "2    3     L47182    L                298.1                    308.5   \n",
       "3    4     L47183    L                298.2                    308.6   \n",
       "4    5     L47184    L                298.2                    308.7   \n",
       "5    6     M14865    M                298.1                    308.6   \n",
       "6    7     L47186    L                298.1                    308.6   \n",
       "7    8     L47187    L                298.1                    308.6   \n",
       "8    9     M14868    M                298.3                    308.7   \n",
       "9   10     M14869    M                298.5                    309.0   \n",
       "\n",
       "   Rotational speed [rpm]  Torque [Nm]  Tool wear [min]  Target Failure Type  \n",
       "0                    1551         42.8                0       0   No Failure  \n",
       "1                    1408         46.3                3       0   No Failure  \n",
       "2                    1498         49.4                5       0   No Failure  \n",
       "3                    1433         39.5                7       0   No Failure  \n",
       "4                    1408         40.0                9       0   No Failure  \n",
       "5                    1425         41.9               11       0   No Failure  \n",
       "6                    1558         42.4               14       0   No Failure  \n",
       "7                    1527         40.2               16       0   No Failure  \n",
       "8                    1667         28.6               18       0   No Failure  \n",
       "9                    1741         28.0               21       0   No Failure  "
      ]
     },
     "execution_count": 199,
     "metadata": {},
     "output_type": "execute_result"
    }
   ],
   "source": [
    "heads = [\"UDI\",\"Product ID\",\"Type\",\"Air temperature [K]\",\"Process temperature [K]\",\"Rotational speed [rpm]\",\"Torque [Nm]\",\"Tool wear [min]\",\"Target\", \"Failure Type\"]\n",
    "df = pd.read_csv(\"predictive_maintenance.csv\", \n",
    "                        sep=\",\")\n",
    "df.head(10)"
   ]
  },
  {
   "cell_type": "code",
   "execution_count": 200,
   "id": "cde7b55c-8a80-4af2-b306-698a8da89d07",
   "metadata": {},
   "outputs": [
    {
     "name": "stdout",
     "output_type": "stream",
     "text": [
      "(10000, 10)\n"
     ]
    }
   ],
   "source": [
    "#tambien podemos ver el tamaño de dafaframe\n",
    "print(df.shape)"
   ]
  },
  {
   "cell_type": "markdown",
   "id": "af4f447c-7890-4678-93bb-0609d7b0b3a0",
   "metadata": {},
   "source": [
    "Como ejercicio para el analisis del dataset podriamos usar pandas para evaluar las siguientes preguntas:\n",
    "* ¿Que relacion tiene el tipo (Type) de producto con la posibilidad de fallar o el tipo de falla?\n",
    "* ¿Cuales son los tipos de falla?\n",
    "* ¿Que variable tiene mas incidencia en cada tipo de falla?"
   ]
  },
  {
   "cell_type": "code",
   "execution_count": 201,
   "id": "9dc1874b-e76b-491c-b35c-2d6ba43059de",
   "metadata": {},
   "outputs": [
    {
     "name": "stdout",
     "output_type": "stream",
     "text": [
      "0                     No Failure\n",
      "50                 Power Failure\n",
      "77             Tool Wear Failure\n",
      "160           Overstrain Failure\n",
      "1221             Random Failures\n",
      "3236    Heat Dissipation Failure\n",
      "Name: Failure Type, dtype: object\n",
      "['No Failure', 'Power Failure', 'Tool Wear Failure', 'Overstrain Failure', 'Random Failures', 'Heat Dissipation Failure']\n"
     ]
    }
   ],
   "source": [
    "failures_serie = df.drop_duplicates(subset = [\"Failure Type\"])[\"Failure Type\"]\n",
    "print(failures_serie)  #esto es una serie\n",
    "failures_list = []\n",
    "#vamos a sacar la serie en forma de lista \"just in case\"\n",
    "for i in failures_serie:\n",
    "    failures_list.append(i)\n",
    "print(failures_list)"
   ]
  },
  {
   "cell_type": "markdown",
   "id": "13420bac-988d-4b2d-9c9c-435e4a627c99",
   "metadata": {},
   "source": [
    "Ahora el primer reto es determinar cual variable incide mas en cada tipo de falla. \n",
    "\n",
    "Desde el campo de la ingenieria mecanica se espera que:\n",
    "* Overstrain Failure (sobreesfuerzo) se deba a un torque excesivo\n",
    "* Tool Wear Failure (desgaste) se deba al desgaste acelerado de la herramienta\n",
    "* Heat Dissipation Failure (perdida de calor) se evidencia en una alta temperatura ambiente o de proceso\n",
    "* Power Failure (potencia) se deba a un aumento en la velocidad de rotacion y el torque P=T*w\n",
    "\n",
    "Para hacer el analisis, pero vamos a crear un df que solo contenga la columnas y filas de interes."
   ]
  },
  {
   "cell_type": "code",
   "execution_count": 202,
   "id": "16dde9a3-9f8e-4165-a1c2-2571a728eed6",
   "metadata": {
    "tags": []
   },
   "outputs": [
    {
     "name": "stdout",
     "output_type": "stream",
     "text": [
      "   Type  Air temperature [K]  Process temperature [K]  Rotational speed [rpm]  \\\n",
      "0     1                298.1                    308.6                    1551   \n",
      "1     0                298.2                    308.7                    1408   \n",
      "2     0                298.1                    308.5                    1498   \n",
      "3     0                298.2                    308.6                    1433   \n",
      "4     0                298.2                    308.7                    1408   \n",
      "\n",
      "   Torque [Nm]  Tool wear [min]  Target Failure Type  \n",
      "0         42.8                0       0   No Failure  \n",
      "1         46.3                3       0   No Failure  \n",
      "2         49.4                5       0   No Failure  \n",
      "3         39.5                7       0   No Failure  \n",
      "4         40.0                9       0   No Failure  \n"
     ]
    }
   ],
   "source": [
    "#dfa = df.drop(['UDI', 'Product ID'], axis=1)[df[\"Failure Type\"] != \"No Failure\"] #en caso de querar dejar solo las fallas\n",
    "dfa = df.drop(['UDI', 'Product ID'], axis=1)\n",
    "type_number = []\n",
    "for i in dfa[\"Type\"]:\n",
    "    if i == \"L\":\n",
    "        type_number.append(0)\n",
    "    elif i == \"M\":\n",
    "        type_number.append(1)\n",
    "    else:\n",
    "        type_number.append(2)\n",
    "dfa[\"Type\"] = type_number #cambiamos las etiquetas por numeros\n",
    "print(dfa.head(5))"
   ]
  },
  {
   "cell_type": "markdown",
   "id": "c29e4908-4292-4761-857d-2ec1175edce3",
   "metadata": {},
   "source": [
    "### ¿Cual variable indice mas en cada falla?"
   ]
  },
  {
   "cell_type": "code",
   "execution_count": 203,
   "id": "c23c3398-37c7-4b4f-882c-40fe779de301",
   "metadata": {},
   "outputs": [
    {
     "data": {
      "text/html": [
       "<div>\n",
       "<style scoped>\n",
       "    .dataframe tbody tr th:only-of-type {\n",
       "        vertical-align: middle;\n",
       "    }\n",
       "\n",
       "    .dataframe tbody tr th {\n",
       "        vertical-align: top;\n",
       "    }\n",
       "\n",
       "    .dataframe thead th {\n",
       "        text-align: right;\n",
       "    }\n",
       "</style>\n",
       "<table border=\"1\" class=\"dataframe\">\n",
       "  <thead>\n",
       "    <tr style=\"text-align: right;\">\n",
       "      <th></th>\n",
       "      <th>Air temperature [K]</th>\n",
       "      <th>Process temperature [K]</th>\n",
       "      <th>Rotational speed [rpm]</th>\n",
       "      <th>Torque [Nm]</th>\n",
       "      <th>Tool wear [min]</th>\n",
       "    </tr>\n",
       "    <tr>\n",
       "      <th>Failure Type</th>\n",
       "      <th></th>\n",
       "      <th></th>\n",
       "      <th></th>\n",
       "      <th></th>\n",
       "      <th></th>\n",
       "    </tr>\n",
       "  </thead>\n",
       "  <tbody>\n",
       "    <tr>\n",
       "      <th>Heat Dissipation Failure</th>\n",
       "      <td>302.567857</td>\n",
       "      <td>310.799107</td>\n",
       "      <td>1337.964286</td>\n",
       "      <td>52.778571</td>\n",
       "      <td>107.339286</td>\n",
       "    </tr>\n",
       "    <tr>\n",
       "      <th>No Failure</th>\n",
       "      <td>299.972855</td>\n",
       "      <td>309.994343</td>\n",
       "      <td>1540.324389</td>\n",
       "      <td>39.624316</td>\n",
       "      <td>106.678927</td>\n",
       "    </tr>\n",
       "    <tr>\n",
       "      <th>Overstrain Failure</th>\n",
       "      <td>299.867949</td>\n",
       "      <td>310.051282</td>\n",
       "      <td>1354.243590</td>\n",
       "      <td>56.878205</td>\n",
       "      <td>208.217949</td>\n",
       "    </tr>\n",
       "    <tr>\n",
       "      <th>Power Failure</th>\n",
       "      <td>300.075789</td>\n",
       "      <td>309.954737</td>\n",
       "      <td>1763.968421</td>\n",
       "      <td>48.514737</td>\n",
       "      <td>101.884211</td>\n",
       "    </tr>\n",
       "    <tr>\n",
       "      <th>Random Failures</th>\n",
       "      <td>300.766667</td>\n",
       "      <td>310.755556</td>\n",
       "      <td>1489.444444</td>\n",
       "      <td>43.522222</td>\n",
       "      <td>119.888889</td>\n",
       "    </tr>\n",
       "    <tr>\n",
       "      <th>Tool Wear Failure</th>\n",
       "      <td>300.288889</td>\n",
       "      <td>310.164444</td>\n",
       "      <td>1570.666667</td>\n",
       "      <td>37.226667</td>\n",
       "      <td>216.555556</td>\n",
       "    </tr>\n",
       "  </tbody>\n",
       "</table>\n",
       "</div>"
      ],
      "text/plain": [
       "                          Air temperature [K]  Process temperature [K]  \\\n",
       "Failure Type                                                             \n",
       "Heat Dissipation Failure           302.567857               310.799107   \n",
       "No Failure                         299.972855               309.994343   \n",
       "Overstrain Failure                 299.867949               310.051282   \n",
       "Power Failure                      300.075789               309.954737   \n",
       "Random Failures                    300.766667               310.755556   \n",
       "Tool Wear Failure                  300.288889               310.164444   \n",
       "\n",
       "                          Rotational speed [rpm]  Torque [Nm]  Tool wear [min]  \n",
       "Failure Type                                                                    \n",
       "Heat Dissipation Failure             1337.964286    52.778571       107.339286  \n",
       "No Failure                           1540.324389    39.624316       106.678927  \n",
       "Overstrain Failure                   1354.243590    56.878205       208.217949  \n",
       "Power Failure                        1763.968421    48.514737       101.884211  \n",
       "Random Failures                      1489.444444    43.522222       119.888889  \n",
       "Tool Wear Failure                    1570.666667    37.226667       216.555556  "
      ]
     },
     "execution_count": 203,
     "metadata": {},
     "output_type": "execute_result"
    }
   ],
   "source": [
    "#quitamos en type y target porque no tiene sentido promediarlos\n",
    "dfa.drop([\"Type\", \"Target\"], axis=1).groupby(by=\"Failure Type\").mean()"
   ]
  },
  {
   "cell_type": "markdown",
   "id": "d715cdbe-e640-47d4-bb69-20d589eb3035",
   "metadata": {},
   "source": [
    "### ¿Cual es la relacion entre la calidad del producto y la posibilidad de falla?"
   ]
  },
  {
   "cell_type": "code",
   "execution_count": 204,
   "id": "f4ab58e0-7916-4932-b514-57a17dfe1527",
   "metadata": {},
   "outputs": [
    {
     "data": {
      "text/plain": [
       "Failure Type              Type\n",
       "Heat Dissipation Failure  0       74\n",
       "                          1       30\n",
       "                          2        8\n",
       "Overstrain Failure        0       73\n",
       "                          1        4\n",
       "                          2        1\n",
       "Power Failure             0       59\n",
       "                          1       31\n",
       "                          2        5\n",
       "Random Failures           0       12\n",
       "                          1        2\n",
       "                          2        4\n",
       "Tool Wear Failure         0       25\n",
       "                          1       14\n",
       "                          2        6\n",
       "Name: Type, dtype: int64"
      ]
     },
     "execution_count": 204,
     "metadata": {},
     "output_type": "execute_result"
    }
   ],
   "source": [
    "#no nos interesa ver las no fallas porque crearia sesgo\n",
    "dfa[df[\"Failure Type\"] != \"No Failure\"].groupby(by=[\"Failure Type\",\"Type\"])[\"Type\"].count()\n",
    "#tarea: calcular el porcentaje de fallas por calidad y para cada tipo de falla"
   ]
  },
  {
   "cell_type": "code",
   "execution_count": 205,
   "id": "a643746f-0544-4e5e-8790-925f0d348b5d",
   "metadata": {
    "tags": []
   },
   "outputs": [
    {
     "name": "stdout",
     "output_type": "stream",
     "text": [
      "Power Failure\n",
      "0:  0.621\n",
      "1:  0.326\n",
      "2:  0.053\n",
      "Tool Wear Failure\n",
      "0:  0.556\n",
      "1:  0.311\n",
      "2:  0.133\n",
      "Overstrain Failure\n",
      "0:  0.936\n",
      "1:  0.051\n",
      "2:  0.013\n",
      "Random Failures\n",
      "0:  0.667\n",
      "1:  0.111\n",
      "2:  0.222\n",
      "Heat Dissipation Failure\n",
      "0:  0.661\n",
      "1:  0.268\n",
      "2:  0.071\n"
     ]
    }
   ],
   "source": [
    "sfa = dfa[df[\"Failure Type\"] != \"No Failure\"].groupby(by=[\"Failure Type\",\"Type\"])[\"Type\"].count()\n",
    "failures_list2 = failures_list\n",
    "failures_list2.remove(\"No Failure\")\n",
    "for i in failures_list2:\n",
    "    print(i)\n",
    "    for j in range(3):\n",
    "        print(str(j) + \":  \" + str(round(sfa[i][j]/(sfa[i][0]+sfa[i][1]+sfa[i][2]),3)))    "
   ]
  },
  {
   "cell_type": "markdown",
   "id": "5426195d-916a-498f-b14e-1f8dff5fc219",
   "metadata": {},
   "source": [
    "Este utimo analisis nos lleva a una conclusion muy importante y es que las piezas de menor calidad siempre van a fallar de forma mucho mas frecuente, en especial por sobre carga.\n",
    "\n",
    "Mas a fondo se debe hacer el analisis sobre el costo/beneficio de tener una pieza de mejor calidad. \n",
    "\n",
    "Se debe evitar aplicar mucho torque cuando se usen piezas de menos calidad. ¿por que?"
   ]
  },
  {
   "cell_type": "markdown",
   "id": "12fd3b5e-dee0-46ae-a346-4aad24128219",
   "metadata": {},
   "source": [
    "### ¿Cuales son las fallas mas frecuentes?"
   ]
  },
  {
   "cell_type": "code",
   "execution_count": 206,
   "id": "ca68945b-00c8-4022-8803-1956c87a5976",
   "metadata": {},
   "outputs": [
    {
     "data": {
      "text/plain": [
       "Failure Type\n",
       "Heat Dissipation Failure    22.4\n",
       "Overstrain Failure          15.6\n",
       "Power Failure               19.0\n",
       "Random Failures              3.6\n",
       "Tool Wear Failure            9.0\n",
       "Name: Failure Type, dtype: float64"
      ]
     },
     "execution_count": 206,
     "metadata": {},
     "output_type": "execute_result"
    }
   ],
   "source": [
    "sfa2 = dfa[df[\"Failure Type\"] != \"No Failure\"].groupby(by=[\"Failure Type\"])[\"Failure Type\"]\n",
    "sfa2.count()/sfa2.count().count()"
   ]
  },
  {
   "cell_type": "markdown",
   "id": "5f6aaff3-4386-4725-8693-376bd712c2f0",
   "metadata": {},
   "source": [
    "# Preparacion de los datos para el modelo\n"
   ]
  },
  {
   "cell_type": "code",
   "execution_count": 207,
   "id": "b13abe96-18bf-4625-b2a4-93da7e71b2cf",
   "metadata": {},
   "outputs": [],
   "source": [
    "feature_cols = [\"Air temperature [K]\",\"Process temperature [K]\",\"Rotational speed [rpm]\",\"Torque [Nm]\",\"Tool wear [min]\"]\n",
    "target_col = [\"Target\"]\n",
    "X = dfa[feature_cols]\n",
    "y = dfa[target_col]\n",
    "X_train, X_test, y_train, y_test = train_test_split(X, y, test_size=0.3, random_state=2)"
   ]
  },
  {
   "cell_type": "markdown",
   "id": "71f8f955-becf-4507-887d-602b5b1b9077",
   "metadata": {},
   "source": [
    "# Entrenar y evaluar el modelo\n",
    "Para entrenar el modelo, primer creamos un objeto <DecisionTreeClassifier> sobre la cual se puede especificar varios parametros como se detalla en el API https://scikit-learn.org/stable/modules/generated/sklearn.tree.DecisionTreeClassifier.html#sklearn.tree.DecisionTreeClassifier\n",
    "    \n",
    "Despues usamos el metodo <fit> para realizar el entrenamiento entregando como argumentos los features (X) y los targets (y)."
   ]
  },
  {
   "cell_type": "code",
   "execution_count": 208,
   "id": "883634bd-a98a-4383-a763-32a91686d8d2",
   "metadata": {},
   "outputs": [],
   "source": [
    "clf = DecisionTreeClassifier() #crear el classifier con todo por defecto\n",
    "clf = clf.fit(X_train,y_train) #entrenar el modelo con los datos de entrenamiento"
   ]
  },
  {
   "cell_type": "markdown",
   "id": "ed2c699b-a962-42bc-8855-9ef05d684b58",
   "metadata": {},
   "source": [
    "Para usar el modelo con datos nuevos, se debe usar el metodo predict, que resive una lista o arreglo de datos a evaluar y retorna un arreglo de respuestas. El modelo siempre se debe evaluar sobre datos que no esten en el conjunto de entrenamiento, por eso previamente separamos un subconjunto llamado X_test y y_test"
   ]
  },
  {
   "cell_type": "code",
   "execution_count": 209,
   "id": "8e17e14a-54ff-42be-9833-6c5464aac825",
   "metadata": {},
   "outputs": [
    {
     "data": {
      "text/plain": [
       "array([0, 0, 0, ..., 0, 0, 0], dtype=int64)"
      ]
     },
     "execution_count": 209,
     "metadata": {},
     "output_type": "execute_result"
    }
   ],
   "source": [
    "y_pred = clf.predict(X_test)\n",
    "y_pred"
   ]
  },
  {
   "cell_type": "markdown",
   "id": "bc13e237-1228-4b61-8a94-5d0ab98e19ad",
   "metadata": {},
   "source": [
    "### Evaluar el modelo"
   ]
  },
  {
   "cell_type": "code",
   "execution_count": 211,
   "id": "8b0d6ba2-ef54-4909-a8a8-cf6e48a1094f",
   "metadata": {},
   "outputs": [
    {
     "data": {
      "text/plain": [
       "0.9743333333333334"
      ]
     },
     "execution_count": 211,
     "metadata": {},
     "output_type": "execute_result"
    }
   ],
   "source": [
    "metrics.accuracy_score(y_pred, y_test)"
   ]
  },
  {
   "cell_type": "markdown",
   "id": "1ba191de-e02d-45dc-abd9-9f9cd6a7c03a",
   "metadata": {
    "tags": []
   },
   "source": [
    "Esto parece una prediccion muy buena, pero es peligrosa porque la mayoria de nuestros datos son de un mismo target, es decir, los datos de entrenamiento estan desvalanceados y esto puede hacer que el modelo se ajuste por la cantidad y no por las metricas deseadas."
   ]
  },
  {
   "cell_type": "code",
   "execution_count": 212,
   "id": "4576019d-551b-44cb-8ed7-69fb975b1aca",
   "metadata": {},
   "outputs": [
    {
     "data": {
      "text/plain": [
       "Target    0.966286\n",
       "dtype: float64"
      ]
     },
     "execution_count": 212,
     "metadata": {},
     "output_type": "execute_result"
    }
   ],
   "source": [
    "y_train[y_train[\"Target\"]==0].count()/y_train.count() #porcentaje de datos que son 0"
   ]
  },
  {
   "cell_type": "markdown",
   "id": "b7d06c7d-c7e7-43eb-8b23-677fc6904e7f",
   "metadata": {},
   "source": [
    "Para mejorar esta situacion, podemos equilibrar los datos dejando un 40% para fallas y un 60% para no fallas"
   ]
  },
  {
   "cell_type": "code",
   "execution_count": 235,
   "id": "44e7bcaa-e087-4589-8d0d-2f8c36c4190e",
   "metadata": {},
   "outputs": [
    {
     "data": {
      "text/html": [
       "<div>\n",
       "<style scoped>\n",
       "    .dataframe tbody tr th:only-of-type {\n",
       "        vertical-align: middle;\n",
       "    }\n",
       "\n",
       "    .dataframe tbody tr th {\n",
       "        vertical-align: top;\n",
       "    }\n",
       "\n",
       "    .dataframe thead th {\n",
       "        text-align: right;\n",
       "    }\n",
       "</style>\n",
       "<table border=\"1\" class=\"dataframe\">\n",
       "  <thead>\n",
       "    <tr style=\"text-align: right;\">\n",
       "      <th></th>\n",
       "      <th>Air temperature [K]</th>\n",
       "      <th>Process temperature [K]</th>\n",
       "      <th>Rotational speed [rpm]</th>\n",
       "      <th>Torque [Nm]</th>\n",
       "      <th>Tool wear [min]</th>\n",
       "    </tr>\n",
       "  </thead>\n",
       "  <tbody>\n",
       "    <tr>\n",
       "      <th>5033</th>\n",
       "      <td>304.0</td>\n",
       "      <td>313.1</td>\n",
       "      <td>1564</td>\n",
       "      <td>50.9</td>\n",
       "      <td>119</td>\n",
       "    </tr>\n",
       "    <tr>\n",
       "      <th>9223</th>\n",
       "      <td>297.9</td>\n",
       "      <td>309.0</td>\n",
       "      <td>1382</td>\n",
       "      <td>43.9</td>\n",
       "      <td>116</td>\n",
       "    </tr>\n",
       "    <tr>\n",
       "      <th>5240</th>\n",
       "      <td>303.7</td>\n",
       "      <td>313.0</td>\n",
       "      <td>1694</td>\n",
       "      <td>28.0</td>\n",
       "      <td>44</td>\n",
       "    </tr>\n",
       "    <tr>\n",
       "      <th>8609</th>\n",
       "      <td>297.4</td>\n",
       "      <td>308.3</td>\n",
       "      <td>1475</td>\n",
       "      <td>40.5</td>\n",
       "      <td>222</td>\n",
       "    </tr>\n",
       "    <tr>\n",
       "      <th>4970</th>\n",
       "      <td>303.8</td>\n",
       "      <td>312.6</td>\n",
       "      <td>1565</td>\n",
       "      <td>36.0</td>\n",
       "      <td>179</td>\n",
       "    </tr>\n",
       "    <tr>\n",
       "      <th>...</th>\n",
       "      <td>...</td>\n",
       "      <td>...</td>\n",
       "      <td>...</td>\n",
       "      <td>...</td>\n",
       "      <td>...</td>\n",
       "    </tr>\n",
       "    <tr>\n",
       "      <th>9414</th>\n",
       "      <td>298.1</td>\n",
       "      <td>308.6</td>\n",
       "      <td>1354</td>\n",
       "      <td>53.9</td>\n",
       "      <td>207</td>\n",
       "    </tr>\n",
       "    <tr>\n",
       "      <th>6330</th>\n",
       "      <td>300.5</td>\n",
       "      <td>310.0</td>\n",
       "      <td>1580</td>\n",
       "      <td>37.0</td>\n",
       "      <td>181</td>\n",
       "    </tr>\n",
       "    <tr>\n",
       "      <th>6540</th>\n",
       "      <td>301.4</td>\n",
       "      <td>310.7</td>\n",
       "      <td>1368</td>\n",
       "      <td>63.7</td>\n",
       "      <td>92</td>\n",
       "    </tr>\n",
       "    <tr>\n",
       "      <th>8693</th>\n",
       "      <td>297.2</td>\n",
       "      <td>308.5</td>\n",
       "      <td>1584</td>\n",
       "      <td>40.0</td>\n",
       "      <td>4</td>\n",
       "    </tr>\n",
       "    <tr>\n",
       "      <th>2941</th>\n",
       "      <td>300.7</td>\n",
       "      <td>309.6</td>\n",
       "      <td>1996</td>\n",
       "      <td>19.8</td>\n",
       "      <td>203</td>\n",
       "    </tr>\n",
       "  </tbody>\n",
       "</table>\n",
       "<p>224 rows × 5 columns</p>\n",
       "</div>"
      ],
      "text/plain": [
       "      Air temperature [K]  Process temperature [K]  Rotational speed [rpm]  \\\n",
       "5033                304.0                    313.1                    1564   \n",
       "9223                297.9                    309.0                    1382   \n",
       "5240                303.7                    313.0                    1694   \n",
       "8609                297.4                    308.3                    1475   \n",
       "4970                303.8                    312.6                    1565   \n",
       "...                   ...                      ...                     ...   \n",
       "9414                298.1                    308.6                    1354   \n",
       "6330                300.5                    310.0                    1580   \n",
       "6540                301.4                    310.7                    1368   \n",
       "8693                297.2                    308.5                    1584   \n",
       "2941                300.7                    309.6                    1996   \n",
       "\n",
       "      Torque [Nm]  Tool wear [min]  \n",
       "5033         50.9              119  \n",
       "9223         43.9              116  \n",
       "5240         28.0               44  \n",
       "8609         40.5              222  \n",
       "4970         36.0              179  \n",
       "...           ...              ...  \n",
       "9414         53.9              207  \n",
       "6330         37.0              181  \n",
       "6540         63.7               92  \n",
       "8693         40.0                4  \n",
       "2941         19.8              203  \n",
       "\n",
       "[224 rows x 5 columns]"
      ]
     },
     "execution_count": 235,
     "metadata": {},
     "output_type": "execute_result"
    }
   ],
   "source": [
    "#sacamos un df solo con las fallas\n",
    "dfa_1 = dfa[df[\"Target\"] != 0]\n",
    "#sacamos un df solo con las no fallas pero 1.2 veces mas grande que el dfa_1\n",
    "dfa_2 = dfa[df[\"Target\"] == 0].sample(int(len(dfa_1)*1.2))\n",
    "#concatenamos para crear el definitivo\n",
    "dfa_3 = pd.concat([dfa_1, dfa_2])\n",
    "X = dfa_3[feature_cols]\n",
    "y = dfa_3[target_col]\n",
    "X_train, X_test, y_train, y_test = train_test_split(X, y, test_size=0.3, random_state=3)\n",
    "X_test"
   ]
  },
  {
   "cell_type": "code",
   "execution_count": 214,
   "id": "1eb346ab-9747-45b3-888e-d016acf9fd95",
   "metadata": {},
   "outputs": [],
   "source": [
    "clf = DecisionTreeClassifier() #crear el classifier con todo por defecto\n",
    "clf = clf.fit(X_train,y_train) #entrenar el modelo con los datos de entrenamiento"
   ]
  },
  {
   "cell_type": "code",
   "execution_count": 215,
   "id": "879338e2-b051-43e4-8eb4-53bc8a11eb5d",
   "metadata": {},
   "outputs": [
    {
     "data": {
      "text/plain": [
       "array([0, 0, 0, 1, 0, 0, 0, 1, 1, 1, 0, 0, 1, 0, 0, 1, 0, 0, 0, 1, 1, 0,\n",
       "       0, 1, 1, 1, 0, 0, 0, 0, 1, 0, 1, 1, 0, 1, 0, 1, 0, 1, 0, 1, 0, 0,\n",
       "       0, 1, 0, 0, 0, 0, 0, 0, 0, 0, 1, 1, 0, 0, 0, 0, 1, 1, 1, 0, 0, 0,\n",
       "       0, 0, 1, 1, 0, 1, 1, 0, 1, 0, 0, 0, 0, 1, 1, 0, 1, 0, 0, 0, 1, 1,\n",
       "       0, 0, 1, 1, 1, 0, 0, 1, 0, 1, 0, 1, 0, 0, 0, 1, 1, 1, 0, 1, 0, 0,\n",
       "       0, 0, 1, 1, 1, 0, 1, 0, 1, 1, 0, 0, 1, 0, 0, 0, 0, 1, 1, 0, 1, 0,\n",
       "       0, 0, 1, 0, 0, 0, 0, 1, 1, 0, 1, 0, 0, 1, 1, 0, 1, 1, 0, 1, 0, 0,\n",
       "       0, 0, 0, 1, 1, 0, 0, 0, 0, 0, 1, 1, 0, 1, 1, 0, 1, 0, 0, 0, 1, 0,\n",
       "       1, 0, 1, 0, 1, 0, 0, 0, 1, 0, 0, 1, 0, 0, 0, 1, 1, 0, 1, 0, 0, 0,\n",
       "       0, 0, 1, 1, 0, 0, 0, 1, 0, 0, 0, 0, 0, 0, 0, 1, 0, 0, 1, 1, 1, 1,\n",
       "       0, 1, 0, 1], dtype=int64)"
      ]
     },
     "execution_count": 215,
     "metadata": {},
     "output_type": "execute_result"
    }
   ],
   "source": [
    "y_pred = clf.predict(X_test)\n",
    "y_pred"
   ]
  },
  {
   "cell_type": "code",
   "execution_count": 216,
   "id": "b4e6c399-10db-4a94-9c62-e67e5f90c2ba",
   "metadata": {},
   "outputs": [
    {
     "data": {
      "text/plain": [
       "0.8616071428571429"
      ]
     },
     "execution_count": 216,
     "metadata": {},
     "output_type": "execute_result"
    }
   ],
   "source": [
    "metrics.accuracy_score(y_pred, y_test)"
   ]
  },
  {
   "cell_type": "markdown",
   "id": "a76afdff-dda8-4cdb-ac6f-c8e4286593d5",
   "metadata": {},
   "source": [
    "vemos que la precision se redujo, pero es normal la reducir tanto el dataset."
   ]
  },
  {
   "cell_type": "markdown",
   "id": "bfb039ab-400a-4921-88ea-6731382b3f6c",
   "metadata": {},
   "source": [
    "# Random Forest\n",
    "Ahora aplicaremos lo mismo para el random forest"
   ]
  },
  {
   "cell_type": "code",
   "execution_count": 217,
   "id": "0d98e270-9dce-4946-af62-33730c1d6dfc",
   "metadata": {},
   "outputs": [],
   "source": [
    "clf_2 = RandomForestClassifier(max_depth=2, random_state=0)"
   ]
  },
  {
   "cell_type": "code",
   "execution_count": 218,
   "id": "48d96be8-029a-4b09-aff7-8a8b35605540",
   "metadata": {},
   "outputs": [
    {
     "data": {
      "text/plain": [
       "RandomForestClassifier(max_depth=2, random_state=0)"
      ]
     },
     "execution_count": 218,
     "metadata": {},
     "output_type": "execute_result"
    }
   ],
   "source": [
    "clf_2.fit(X_train, y_train.values.ravel()) #notar que se debe usar .values.ravel()"
   ]
  },
  {
   "cell_type": "code",
   "execution_count": 219,
   "id": "91db7865-aaf5-417d-ab1d-2ef74687051f",
   "metadata": {},
   "outputs": [],
   "source": [
    "y_pred = clf_rf.predict(X_test)"
   ]
  },
  {
   "cell_type": "code",
   "execution_count": 225,
   "id": "92d3411a-a6eb-4edf-9484-de565f66f530",
   "metadata": {},
   "outputs": [
    {
     "data": {
      "text/plain": [
       "0.8571428571428571"
      ]
     },
     "execution_count": 225,
     "metadata": {},
     "output_type": "execute_result"
    }
   ],
   "source": [
    "metrics.accuracy_score(y_pred, y_test)"
   ]
  },
  {
   "cell_type": "code",
   "execution_count": 229,
   "id": "fa7363bc-d133-40e4-be22-0d65066567fd",
   "metadata": {},
   "outputs": [
    {
     "name": "stdout",
     "output_type": "stream",
     "text": [
      "relacion ----- 339/135\n",
      "DT: 0.7681522956326987\n",
      "RF: 0.9007614781634938\n",
      "relacion ----- 339/237\n",
      "DT: 0.8335382308845578\n",
      "RF: 0.8751424287856073\n",
      "relacion ----- 339/339\n",
      "DT: 0.7818191721132898\n",
      "RF: 0.8480718954248367\n",
      "relacion ----- 339/440\n",
      "DT: 0.8074937965260546\n",
      "RF: 0.8446732837055417\n",
      "relacion ----- 339/542\n",
      "DT: 0.7889381099126862\n",
      "RF: 0.8377118644067798\n",
      "relacion ----- 339/644\n",
      "DT: 0.7629804205946338\n",
      "RF: 0.8291826375220139\n",
      "relacion ----- 339/745\n",
      "DT: 0.8025985663082438\n",
      "RF: 0.8431771633384535\n",
      "relacion ----- 339/847\n",
      "DT: 0.8212566039073858\n",
      "RF: 0.8676736517391767\n",
      "relacion ----- 339/949\n",
      "DT: 0.8455675202847404\n",
      "RF: 0.8525080686514042\n",
      "relacion ----- 339/1050\n",
      "DT: 0.8171571046411967\n",
      "RF: 0.853151702464743\n",
      "relacion ----- 339/1152\n",
      "DT: 0.8296244753204192\n",
      "RF: 0.8806199636371799\n",
      "relacion ----- 339/1254\n",
      "DT: 0.8493562824076812\n",
      "RF: 0.8575264683267285\n",
      "relacion ----- 339/1355\n",
      "DT: 0.8347140039447731\n",
      "RF: 0.8577333263514338\n",
      "relacion ----- 339/1457\n",
      "DT: 0.8580099040544724\n",
      "RF: 0.8719560507582791\n",
      "relacion ----- 339/1559\n",
      "DT: 0.8572128870990141\n",
      "RF: 0.8767226774059159\n",
      "relacion ----- 339/1661\n",
      "DT: 0.8545\n",
      "RF: 0.8785000000000001\n",
      "relacion ----- 339/1762\n",
      "DT: 0.8667300079176563\n",
      "RF: 0.8810191154846736\n",
      "relacion ----- 339/1864\n",
      "DT: 0.8856173984745415\n",
      "RF: 0.8933415790558648\n",
      "relacion ----- 339/1966\n",
      "DT: 0.8880694143167028\n",
      "RF: 0.9019522776572668\n",
      "relacion ----- 339/2067\n",
      "DT: 0.8886086213887043\n",
      "RF: 0.8944419044004107\n",
      "relacion ----- 339/2169\n",
      "DT: 0.8887539661712431\n",
      "RF: 0.9011220586715016\n",
      "relacion ----- 339/2271\n",
      "DT: 0.8992337164750956\n",
      "RF: 0.9034482758620689\n",
      "relacion ----- 339/2372\n",
      "DT: 0.8963473391639993\n",
      "RF: 0.9059461920586058\n",
      "relacion ----- 339/2474\n",
      "DT: 0.909699563219408\n",
      "RF: 0.9043798158062744\n",
      "relacion ----- 339/2576\n",
      "DT: 0.9029159519725557\n",
      "RF: 0.9022298456260721\n",
      "relacion ----- 339/2678\n",
      "DT: 0.9035429914445432\n",
      "RF: 0.9161438942154569\n",
      "relacion ----- 339/2779\n",
      "DT: 0.9092470263818578\n",
      "RF: 0.9162967650327201\n",
      "relacion ----- 339/2881\n",
      "DT: 0.918944099378882\n",
      "RF: 0.9208074534161492\n",
      "relacion ----- 339/2983\n",
      "DT: 0.9136031343418788\n",
      "RF: 0.9205322040039858\n",
      "relacion ----- 339/3084\n",
      "DT: 0.9217095658855168\n",
      "RF: 0.9240466128825713\n"
     ]
    }
   ],
   "source": [
    "j=0.1\n",
    "for i in range(10):\n",
    "    j = j+0.2\n",
    "    dfa_1 = dfa[df[\"Target\"] != 0]\n",
    "    dfa_2 = dfa[df[\"Target\"] == 0].sample(int(len(dfa_1)*j))\n",
    "    dfa_3 = pd.concat([dfa_1, dfa_2])\n",
    "    X = dfa_3[feature_cols]\n",
    "    y = dfa_3[target_col]\n",
    "    clf_1 = DecisionTreeClassifier(max_depth=3, random_state=0) #crear el classifier con todo por defecto\n",
    "    clf_2 = RandomForestClassifier(max_depth=3, random_state=0)\n",
    "    print(\"relacion ----- \" + str(len(dfa_1)) + \"/\" + str(len(dfa_2)))\n",
    "    print(\"DT: \" + str(cross_val_score(clf_1, X, y, cv = 5).mean()))\n",
    "    print(\"RF: \" + str(cross_val_score(clf_2, X, y.values.ravel(), cv = 5).mean()))"
   ]
  },
  {
   "cell_type": "code",
   "execution_count": 247,
   "id": "3e033c94-101d-4a47-b248-b93117eac737",
   "metadata": {},
   "outputs": [
    {
     "name": "stdout",
     "output_type": "stream",
     "text": [
      "relacion ----- 339/101\n",
      "DT: 0.9306930693069307\n",
      "RF: 0.9900990099009901\n",
      "relacion ----- 339/169\n",
      "DT: 0.9393939393939394\n",
      "RF: 0.9595959595959596\n",
      "relacion ----- 339/237\n",
      "DT: 0.8383838383838383\n",
      "RF: 0.898989898989899\n",
      "relacion ----- 339/305\n",
      "DT: 0.8301886792452831\n",
      "RF: 0.8490566037735849\n",
      "relacion ----- 339/372\n",
      "DT: 0.7961165048543689\n",
      "RF: 0.9029126213592233\n",
      "relacion ----- 339/440\n",
      "DT: 0.6788990825688074\n",
      "RF: 0.8440366972477065\n",
      "relacion ----- 339/508\n",
      "DT: 0.8347826086956521\n",
      "RF: 0.8521739130434782\n",
      "relacion ----- 339/576\n",
      "DT: 0.7909090909090909\n",
      "RF: 0.8363636363636363\n",
      "relacion ----- 339/644\n",
      "DT: 0.7837837837837838\n",
      "RF: 0.8378378378378378\n",
      "relacion ----- 339/711\n",
      "DT: 0.7685185185185185\n",
      "RF: 0.8240740740740741\n",
      "relacion ----- 339/779\n",
      "DT: 0.7522935779816514\n",
      "RF: 0.7522935779816514\n",
      "relacion ----- 339/847\n",
      "DT: 0.7864077669902912\n",
      "RF: 0.7281553398058253\n",
      "relacion ----- 339/915\n",
      "DT: 0.5982142857142857\n",
      "RF: 0.7678571428571429\n",
      "relacion ----- 339/983\n",
      "DT: 0.591304347826087\n",
      "RF: 0.5478260869565217\n",
      "relacion ----- 339/1050\n",
      "DT: 0.8378378378378378\n",
      "RF: 0.6036036036036037\n",
      "relacion ----- 339/1118\n",
      "DT: 0.7394957983193278\n",
      "RF: 0.6302521008403361\n",
      "relacion ----- 339/1186\n",
      "DT: 0.5726495726495726\n",
      "RF: 0.6752136752136753\n",
      "relacion ----- 339/1254\n",
      "DT: 0.5726495726495726\n",
      "RF: 0.6410256410256411\n",
      "relacion ----- 339/1322\n",
      "DT: 0.5862068965517241\n",
      "RF: 0.5517241379310345\n",
      "relacion ----- 339/1389\n",
      "DT: 0.4782608695652174\n",
      "RF: 0.5217391304347826\n"
     ]
    }
   ],
   "source": [
    "j=0.1\n",
    "x_axis = []\n",
    "y1_axis = []\n",
    "y2_axis = []\n",
    "for i in range(20):\n",
    "    j = j+0.2\n",
    "    \n",
    "    dfa_1 = dfa[df[\"Target\"] != 0]\n",
    "    dfa_2 = dfa[df[\"Target\"] == 0].sample(int(len(dfa_1)*j))\n",
    "    dfa_3 = pd.concat([dfa_1, dfa_2])\n",
    "    X = dfa_3[feature_cols]\n",
    "    y = dfa_3[target_col]\n",
    "    X_train, X_test, y_train, y_test = train_test_split(X, y, test_size=0.3, random_state=3)\n",
    "    clf_1 = DecisionTreeClassifier(max_depth=3, random_state=0)\n",
    "    clf_1 = clf_1.fit(X_train,y_train)\n",
    "    clf_2 = RandomForestClassifier(max_depth=3, random_state=0)\n",
    "    clf_2 = clf_2.fit(X_train,y_train.values.ravel())\n",
    "    print(\"relacion ----- \" + str(len(dfa_1)) + \"/\" + str(len(dfa_2)))\n",
    "    x_axis.append(len(dfa_2)/len(dfa_1))\n",
    "    m1 = clf_1.predict(X_test[y_test[\"Target\"]== 1])\n",
    "    m2 = clf_2.predict(X_test[y_test[\"Target\"]== 1])\n",
    "    print(\"DT: \" + str(metrics.accuracy_score(m1, np.array(len(m1)*[1]))))\n",
    "    y1_axis.append(metrics.accuracy_score(m1, np.array(len(m1)*[1])))\n",
    "    print(\"RF: \" + str(metrics.accuracy_score(m2, np.array(len(m2)*[1]))))\n",
    "    y2_axis.append(metrics.accuracy_score(m2, np.array(len(m2)*[1])))"
   ]
  },
  {
   "cell_type": "code",
   "execution_count": 248,
   "id": "d715885c-fc16-4225-8dba-a2df0875ea86",
   "metadata": {},
   "outputs": [
    {
     "data": {
      "image/png": "[encoded data removed]",
      "text/plain": [
       "<Figure size 432x288 with 1 Axes>"
      ]
     },
     "metadata": {
      "needs_background": "light"
     },
     "output_type": "display_data"
    }
   ],
   "source": [
    "import matplotlib.pyplot as plt\n",
    "fig = plt.figure()\n",
    "ax = fig.add_subplot(1, 1, 1)\n",
    "ax.plot(x_axis, y1_axis, color='tab:blue')\n",
    "ax.plot(x_axis, y2_axis, color='tab:orange')\n",
    "plt.show()"
   ]
  },
  {
   "cell_type": "code",
   "execution_count": null,
   "id": "66388be0-fb82-412e-baea-58dca2aacacf",
   "metadata": {},
   "outputs": [],
   "source": []
  }
 ],
 "metadata": {
  "kernelspec": {
   "display_name": "Python 3 (ipykernel)",
   "language": "python",
   "name": "python3"
  },
  "language_info": {
   "codemirror_mode": {
    "name": "ipython",
    "version": 3
   },
   "file_extension": ".py",
   "mimetype": "text/x-python",
   "name": "python",
   "nbconvert_exporter": "python",
   "pygments_lexer": "ipython3",
   "version": "3.9.7"
  }
 },
 "nbformat": 4,
 "nbformat_minor": 5
}
