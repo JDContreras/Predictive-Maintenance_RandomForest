{
 "cells": [
  {
   "cell_type": "markdown",
   "id": "38626c46-0abc-4db3-b4c8-3372cafa1611",
   "metadata": {},
   "source": [
    "# Importar las librerias\n",
    "Para este ejercicio debemos usar pandas para el manejo del conjunto de datos y sklearn como libreria de ML para entrenar y evaluar los modelos"
   ]
  },
  {
   "cell_type": "code",
   "execution_count": 2,
   "id": "c2097edb-3e93-4c7e-a436-e7d351365cfb",
   "metadata": {},
   "outputs": [],
   "source": [
    "import pandas as pd\n",
    "import numpy as np\n",
    "from sklearn import tree\n",
    "from sklearn.ensemble import RandomForestClassifier\n",
    "from sklearn.tree import DecisionTreeClassifier\n",
    "from sklearn.model_selection import train_test_split\n",
    "from sklearn import metrics \n",
    "from sklearn.model_selection import cross_val_score"
   ]
  },
  {
   "cell_type": "markdown",
   "id": "7fc5647a-3ff2-4249-8bf9-bcb444340e96",
   "metadata": {},
   "source": [
    "# EDA - Machine Predictive Maintenance Classification\n",
    "Usaremos un dataset para matenimiento predictivo que fue ya preparado para un ejercicio de clasificacion, donde se debe usar los datos con dos objetivos:\n",
    "1. determinar su hay falla\n",
    "2. determinar el tipo de falla\n",
    "\n",
    "las columnas son:\n",
    "* Type: calidad del producto, alta (H) media (M) o baja (L))\n",
    "* Air temperature [K]: Temperatura medida del ambiente\n",
    "* Process temperature [K]: temperatura medida del proceso\n",
    "* Rotational speed [rpm]: velocidad calculada a partir de la pontencia\n",
    "* Torque [Nm]: torque\n",
    "* Tool wear [min]: desgaste por minuto\n",
    "* target: hay falla o no\n",
    "* Failure Type: tipo de falla si la hay\n",
    "\n",
    "Se puede visualizar y explorar mas el dataset en https://www.kaggle.com/shivamb/machine-predictive-maintenance-classification"
   ]
  },
  {
   "cell_type": "markdown",
   "id": "2636e890-f8c8-4f5a-ae3a-4ccc4088dce8",
   "metadata": {},
   "source": [
    "Importamos los datos desde el CSV y vemos las primeras filas:"
   ]
  },
  {
   "cell_type": "code",
   "execution_count": 3,
   "id": "f86f5b6e-5679-467a-8790-f6893b78a6fa",
   "metadata": {},
   "outputs": [
    {
     "data": {
      "text/html": [
       "<div>\n",
       "<style scoped>\n",
       "    .dataframe tbody tr th:only-of-type {\n",
       "        vertical-align: middle;\n",
       "    }\n",
       "\n",
       "    .dataframe tbody tr th {\n",
       "        vertical-align: top;\n",
       "    }\n",
       "\n",
       "    .dataframe thead th {\n",
       "        text-align: right;\n",
       "    }\n",
       "</style>\n",
       "<table border=\"1\" class=\"dataframe\">\n",
       "  <thead>\n",
       "    <tr style=\"text-align: right;\">\n",
       "      <th></th>\n",
       "      <th>UDI</th>\n",
       "      <th>Product ID</th>\n",
       "      <th>Type</th>\n",
       "      <th>Air temperature [K]</th>\n",
       "      <th>Process temperature [K]</th>\n",
       "      <th>Rotational speed [rpm]</th>\n",
       "      <th>Torque [Nm]</th>\n",
       "      <th>Tool wear [min]</th>\n",
       "      <th>Target</th>\n",
       "      <th>Failure Type</th>\n",
       "    </tr>\n",
       "  </thead>\n",
       "  <tbody>\n",
       "    <tr>\n",
       "      <th>0</th>\n",
       "      <td>1</td>\n",
       "      <td>M14860</td>\n",
       "      <td>M</td>\n",
       "      <td>298.1</td>\n",
       "      <td>308.6</td>\n",
       "      <td>1551</td>\n",
       "      <td>42.8</td>\n",
       "      <td>0</td>\n",
       "      <td>0</td>\n",
       "      <td>No Failure</td>\n",
       "    </tr>\n",
       "    <tr>\n",
       "      <th>1</th>\n",
       "      <td>2</td>\n",
       "      <td>L47181</td>\n",
       "      <td>L</td>\n",
       "      <td>298.2</td>\n",
       "      <td>308.7</td>\n",
       "      <td>1408</td>\n",
       "      <td>46.3</td>\n",
       "      <td>3</td>\n",
       "      <td>0</td>\n",
       "      <td>No Failure</td>\n",
       "    </tr>\n",
       "    <tr>\n",
       "      <th>2</th>\n",
       "      <td>3</td>\n",
       "      <td>L47182</td>\n",
       "      <td>L</td>\n",
       "      <td>298.1</td>\n",
       "      <td>308.5</td>\n",
       "      <td>1498</td>\n",
       "      <td>49.4</td>\n",
       "      <td>5</td>\n",
       "      <td>0</td>\n",
       "      <td>No Failure</td>\n",
       "    </tr>\n",
       "    <tr>\n",
       "      <th>3</th>\n",
       "      <td>4</td>\n",
       "      <td>L47183</td>\n",
       "      <td>L</td>\n",
       "      <td>298.2</td>\n",
       "      <td>308.6</td>\n",
       "      <td>1433</td>\n",
       "      <td>39.5</td>\n",
       "      <td>7</td>\n",
       "      <td>0</td>\n",
       "      <td>No Failure</td>\n",
       "    </tr>\n",
       "    <tr>\n",
       "      <th>4</th>\n",
       "      <td>5</td>\n",
       "      <td>L47184</td>\n",
       "      <td>L</td>\n",
       "      <td>298.2</td>\n",
       "      <td>308.7</td>\n",
       "      <td>1408</td>\n",
       "      <td>40.0</td>\n",
       "      <td>9</td>\n",
       "      <td>0</td>\n",
       "      <td>No Failure</td>\n",
       "    </tr>\n",
       "    <tr>\n",
       "      <th>5</th>\n",
       "      <td>6</td>\n",
       "      <td>M14865</td>\n",
       "      <td>M</td>\n",
       "      <td>298.1</td>\n",
       "      <td>308.6</td>\n",
       "      <td>1425</td>\n",
       "      <td>41.9</td>\n",
       "      <td>11</td>\n",
       "      <td>0</td>\n",
       "      <td>No Failure</td>\n",
       "    </tr>\n",
       "    <tr>\n",
       "      <th>6</th>\n",
       "      <td>7</td>\n",
       "      <td>L47186</td>\n",
       "      <td>L</td>\n",
       "      <td>298.1</td>\n",
       "      <td>308.6</td>\n",
       "      <td>1558</td>\n",
       "      <td>42.4</td>\n",
       "      <td>14</td>\n",
       "      <td>0</td>\n",
       "      <td>No Failure</td>\n",
       "    </tr>\n",
       "    <tr>\n",
       "      <th>7</th>\n",
       "      <td>8</td>\n",
       "      <td>L47187</td>\n",
       "      <td>L</td>\n",
       "      <td>298.1</td>\n",
       "      <td>308.6</td>\n",
       "      <td>1527</td>\n",
       "      <td>40.2</td>\n",
       "      <td>16</td>\n",
       "      <td>0</td>\n",
       "      <td>No Failure</td>\n",
       "    </tr>\n",
       "    <tr>\n",
       "      <th>8</th>\n",
       "      <td>9</td>\n",
       "      <td>M14868</td>\n",
       "      <td>M</td>\n",
       "      <td>298.3</td>\n",
       "      <td>308.7</td>\n",
       "      <td>1667</td>\n",
       "      <td>28.6</td>\n",
       "      <td>18</td>\n",
       "      <td>0</td>\n",
       "      <td>No Failure</td>\n",
       "    </tr>\n",
       "    <tr>\n",
       "      <th>9</th>\n",
       "      <td>10</td>\n",
       "      <td>M14869</td>\n",
       "      <td>M</td>\n",
       "      <td>298.5</td>\n",
       "      <td>309.0</td>\n",
       "      <td>1741</td>\n",
       "      <td>28.0</td>\n",
       "      <td>21</td>\n",
       "      <td>0</td>\n",
       "      <td>No Failure</td>\n",
       "    </tr>\n",
       "  </tbody>\n",
       "</table>\n",
       "</div>"
      ],
      "text/plain": [
       "   UDI Product ID Type  Air temperature [K]  Process temperature [K]  \\\n",
       "0    1     M14860    M                298.1                    308.6   \n",
       "1    2     L47181    L                298.2                    308.7   \n",
       "2    3     L47182    L                298.1                    308.5   \n",
       "3    4     L47183    L                298.2                    308.6   \n",
       "4    5     L47184    L                298.2                    308.7   \n",
       "5    6     M14865    M                298.1                    308.6   \n",
       "6    7     L47186    L                298.1                    308.6   \n",
       "7    8     L47187    L                298.1                    308.6   \n",
       "8    9     M14868    M                298.3                    308.7   \n",
       "9   10     M14869    M                298.5                    309.0   \n",
       "\n",
       "   Rotational speed [rpm]  Torque [Nm]  Tool wear [min]  Target Failure Type  \n",
       "0                    1551         42.8                0       0   No Failure  \n",
       "1                    1408         46.3                3       0   No Failure  \n",
       "2                    1498         49.4                5       0   No Failure  \n",
       "3                    1433         39.5                7       0   No Failure  \n",
       "4                    1408         40.0                9       0   No Failure  \n",
       "5                    1425         41.9               11       0   No Failure  \n",
       "6                    1558         42.4               14       0   No Failure  \n",
       "7                    1527         40.2               16       0   No Failure  \n",
       "8                    1667         28.6               18       0   No Failure  \n",
       "9                    1741         28.0               21       0   No Failure  "
      ]
     },
     "execution_count": 3,
     "metadata": {},
     "output_type": "execute_result"
    }
   ],
   "source": [
    "heads = [\"UDI\",\"Product ID\",\"Type\",\"Air temperature [K]\",\"Process temperature [K]\",\"Rotational speed [rpm]\",\"Torque [Nm]\",\"Tool wear [min]\",\"Target\", \"Failure Type\"]\n",
    "df = pd.read_csv(\"predictive_maintenance.csv\", \n",
    "                        sep=\",\")\n",
    "df.head(10)"
   ]
  },
  {
   "cell_type": "code",
   "execution_count": 4,
   "id": "cde7b55c-8a80-4af2-b306-698a8da89d07",
   "metadata": {},
   "outputs": [
    {
     "name": "stdout",
     "output_type": "stream",
     "text": [
      "(10000, 10)\n"
     ]
    }
   ],
   "source": [
    "#tambien podemos ver el tamaño de dafaframe\n",
    "print(df.shape)"
   ]
  },
  {
   "cell_type": "markdown",
   "id": "af4f447c-7890-4678-93bb-0609d7b0b3a0",
   "metadata": {},
   "source": [
    "Como ejercicio para el analisis del dataset podriamos usar pandas para evaluar las siguientes preguntas:\n",
    "* ¿Que relacion tiene el tipo (Type) de producto con la posibilidad de fallar o el tipo de falla?\n",
    "* ¿Cuales son los tipos de falla?\n",
    "* ¿Que variable tiene mas incidencia en cada tipo de falla?"
   ]
  },
  {
   "cell_type": "code",
   "execution_count": 5,
   "id": "9dc1874b-e76b-491c-b35c-2d6ba43059de",
   "metadata": {},
   "outputs": [
    {
     "name": "stdout",
     "output_type": "stream",
     "text": [
      "0                     No Failure\n",
      "50                 Power Failure\n",
      "77             Tool Wear Failure\n",
      "160           Overstrain Failure\n",
      "1221             Random Failures\n",
      "3236    Heat Dissipation Failure\n",
      "Name: Failure Type, dtype: object\n",
      "['No Failure', 'Power Failure', 'Tool Wear Failure', 'Overstrain Failure', 'Random Failures', 'Heat Dissipation Failure']\n"
     ]
    }
   ],
   "source": [
    "failures_serie = df.drop_duplicates(subset = [\"Failure Type\"])[\"Failure Type\"]\n",
    "print(failures_serie)  #esto es una serie\n",
    "failures_list = []\n",
    "#vamos a sacar la serie en forma de lista \"just in case\"\n",
    "for i in failures_serie:\n",
    "    failures_list.append(i)\n",
    "print(failures_list)"
   ]
  },
  {
   "cell_type": "markdown",
   "id": "13420bac-988d-4b2d-9c9c-435e4a627c99",
   "metadata": {},
   "source": [
    "Ahora el primer reto es determinar cual variable incide mas en cada tipo de falla. \n",
    "\n",
    "Desde el campo de la ingenieria mecanica se espera que:\n",
    "* Overstrain Failure (sobreesfuerzo) se deba a un torque excesivo\n",
    "* Tool Wear Failure (desgaste) se deba al desgaste acelerado de la herramienta\n",
    "* Heat Dissipation Failure (perdida de calor) se evidencia en una alta temperatura ambiente o de proceso\n",
    "* Power Failure (potencia) se deba a un aumento en la velocidad de rotacion y el torque P=T*w\n",
    "\n",
    "Para hacer el analisis, pero vamos a crear un df que solo contenga la columnas y filas de interes."
   ]
  },
  {
   "cell_type": "code",
   "execution_count": 6,
   "id": "16dde9a3-9f8e-4165-a1c2-2571a728eed6",
   "metadata": {
    "tags": []
   },
   "outputs": [
    {
     "name": "stdout",
     "output_type": "stream",
     "text": [
      "   Type  Air temperature [K]  Process temperature [K]  Rotational speed [rpm]  \\\n",
      "0     1                298.1                    308.6                    1551   \n",
      "1     0                298.2                    308.7                    1408   \n",
      "2     0                298.1                    308.5                    1498   \n",
      "3     0                298.2                    308.6                    1433   \n",
      "4     0                298.2                    308.7                    1408   \n",
      "\n",
      "   Torque [Nm]  Tool wear [min]  Target Failure Type  \n",
      "0         42.8                0       0   No Failure  \n",
      "1         46.3                3       0   No Failure  \n",
      "2         49.4                5       0   No Failure  \n",
      "3         39.5                7       0   No Failure  \n",
      "4         40.0                9       0   No Failure  \n"
     ]
    }
   ],
   "source": [
    "#dfa = df.drop(['UDI', 'Product ID'], axis=1)[df[\"Failure Type\"] != \"No Failure\"] #en caso de querar dejar solo las fallas\n",
    "dfa = df.drop(['UDI', 'Product ID'], axis=1)\n",
    "type_number = []\n",
    "for i in dfa[\"Type\"]:\n",
    "    if i == \"L\":\n",
    "        type_number.append(0)\n",
    "    elif i == \"M\":\n",
    "        type_number.append(1)\n",
    "    else:\n",
    "        type_number.append(2)\n",
    "dfa[\"Type\"] = type_number #cambiamos las etiquetas por numeros\n",
    "print(dfa.head(5))"
   ]
  },
  {
   "cell_type": "markdown",
   "id": "c29e4908-4292-4761-857d-2ec1175edce3",
   "metadata": {},
   "source": [
    "### ¿Cual variable indice mas en cada falla?"
   ]
  },
  {
   "cell_type": "code",
   "execution_count": 7,
   "id": "c23c3398-37c7-4b4f-882c-40fe779de301",
   "metadata": {},
   "outputs": [
    {
     "data": {
      "text/html": [
       "<div>\n",
       "<style scoped>\n",
       "    .dataframe tbody tr th:only-of-type {\n",
       "        vertical-align: middle;\n",
       "    }\n",
       "\n",
       "    .dataframe tbody tr th {\n",
       "        vertical-align: top;\n",
       "    }\n",
       "\n",
       "    .dataframe thead th {\n",
       "        text-align: right;\n",
       "    }\n",
       "</style>\n",
       "<table border=\"1\" class=\"dataframe\">\n",
       "  <thead>\n",
       "    <tr style=\"text-align: right;\">\n",
       "      <th></th>\n",
       "      <th>Air temperature [K]</th>\n",
       "      <th>Process temperature [K]</th>\n",
       "      <th>Rotational speed [rpm]</th>\n",
       "      <th>Torque [Nm]</th>\n",
       "      <th>Tool wear [min]</th>\n",
       "    </tr>\n",
       "    <tr>\n",
       "      <th>Failure Type</th>\n",
       "      <th></th>\n",
       "      <th></th>\n",
       "      <th></th>\n",
       "      <th></th>\n",
       "      <th></th>\n",
       "    </tr>\n",
       "  </thead>\n",
       "  <tbody>\n",
       "    <tr>\n",
       "      <th>Heat Dissipation Failure</th>\n",
       "      <td>302.567857</td>\n",
       "      <td>310.799107</td>\n",
       "      <td>1337.964286</td>\n",
       "      <td>52.778571</td>\n",
       "      <td>107.339286</td>\n",
       "    </tr>\n",
       "    <tr>\n",
       "      <th>No Failure</th>\n",
       "      <td>299.972855</td>\n",
       "      <td>309.994343</td>\n",
       "      <td>1540.324389</td>\n",
       "      <td>39.624316</td>\n",
       "      <td>106.678927</td>\n",
       "    </tr>\n",
       "    <tr>\n",
       "      <th>Overstrain Failure</th>\n",
       "      <td>299.867949</td>\n",
       "      <td>310.051282</td>\n",
       "      <td>1354.243590</td>\n",
       "      <td>56.878205</td>\n",
       "      <td>208.217949</td>\n",
       "    </tr>\n",
       "    <tr>\n",
       "      <th>Power Failure</th>\n",
       "      <td>300.075789</td>\n",
       "      <td>309.954737</td>\n",
       "      <td>1763.968421</td>\n",
       "      <td>48.514737</td>\n",
       "      <td>101.884211</td>\n",
       "    </tr>\n",
       "    <tr>\n",
       "      <th>Random Failures</th>\n",
       "      <td>300.766667</td>\n",
       "      <td>310.755556</td>\n",
       "      <td>1489.444444</td>\n",
       "      <td>43.522222</td>\n",
       "      <td>119.888889</td>\n",
       "    </tr>\n",
       "    <tr>\n",
       "      <th>Tool Wear Failure</th>\n",
       "      <td>300.288889</td>\n",
       "      <td>310.164444</td>\n",
       "      <td>1570.666667</td>\n",
       "      <td>37.226667</td>\n",
       "      <td>216.555556</td>\n",
       "    </tr>\n",
       "  </tbody>\n",
       "</table>\n",
       "</div>"
      ],
      "text/plain": [
       "                          Air temperature [K]  Process temperature [K]  \\\n",
       "Failure Type                                                             \n",
       "Heat Dissipation Failure           302.567857               310.799107   \n",
       "No Failure                         299.972855               309.994343   \n",
       "Overstrain Failure                 299.867949               310.051282   \n",
       "Power Failure                      300.075789               309.954737   \n",
       "Random Failures                    300.766667               310.755556   \n",
       "Tool Wear Failure                  300.288889               310.164444   \n",
       "\n",
       "                          Rotational speed [rpm]  Torque [Nm]  Tool wear [min]  \n",
       "Failure Type                                                                    \n",
       "Heat Dissipation Failure             1337.964286    52.778571       107.339286  \n",
       "No Failure                           1540.324389    39.624316       106.678927  \n",
       "Overstrain Failure                   1354.243590    56.878205       208.217949  \n",
       "Power Failure                        1763.968421    48.514737       101.884211  \n",
       "Random Failures                      1489.444444    43.522222       119.888889  \n",
       "Tool Wear Failure                    1570.666667    37.226667       216.555556  "
      ]
     },
     "execution_count": 7,
     "metadata": {},
     "output_type": "execute_result"
    }
   ],
   "source": [
    "#quitamos en type y target porque no tiene sentido promediarlos\n",
    "dfa.drop([\"Type\", \"Target\"], axis=1).groupby(by=\"Failure Type\").mean()"
   ]
  },
  {
   "cell_type": "markdown",
   "id": "d715cdbe-e640-47d4-bb69-20d589eb3035",
   "metadata": {},
   "source": [
    "### ¿Cual es la relacion entre la calidad del producto y la posibilidad de falla?"
   ]
  },
  {
   "cell_type": "code",
   "execution_count": 8,
   "id": "f4ab58e0-7916-4932-b514-57a17dfe1527",
   "metadata": {},
   "outputs": [
    {
     "data": {
      "text/plain": [
       "Failure Type              Type\n",
       "Heat Dissipation Failure  0       74\n",
       "                          1       30\n",
       "                          2        8\n",
       "Overstrain Failure        0       73\n",
       "                          1        4\n",
       "                          2        1\n",
       "Power Failure             0       59\n",
       "                          1       31\n",
       "                          2        5\n",
       "Random Failures           0       12\n",
       "                          1        2\n",
       "                          2        4\n",
       "Tool Wear Failure         0       25\n",
       "                          1       14\n",
       "                          2        6\n",
       "Name: Type, dtype: int64"
      ]
     },
     "execution_count": 8,
     "metadata": {},
     "output_type": "execute_result"
    }
   ],
   "source": [
    "#no nos interesa ver las no fallas porque crearia sesgo\n",
    "dfa[df[\"Failure Type\"] != \"No Failure\"].groupby(by=[\"Failure Type\",\"Type\"])[\"Type\"].count()\n",
    "#tarea: calcular el porcentaje de fallas por calidad y para cada tipo de falla"
   ]
  },
  {
   "cell_type": "code",
   "execution_count": 9,
   "id": "a643746f-0544-4e5e-8790-925f0d348b5d",
   "metadata": {
    "tags": []
   },
   "outputs": [
    {
     "name": "stdout",
     "output_type": "stream",
     "text": [
      "Power Failure\n",
      "0:  0.621\n",
      "1:  0.326\n",
      "2:  0.053\n",
      "Tool Wear Failure\n",
      "0:  0.556\n",
      "1:  0.311\n",
      "2:  0.133\n",
      "Overstrain Failure\n",
      "0:  0.936\n",
      "1:  0.051\n",
      "2:  0.013\n",
      "Random Failures\n",
      "0:  0.667\n",
      "1:  0.111\n",
      "2:  0.222\n",
      "Heat Dissipation Failure\n",
      "0:  0.661\n",
      "1:  0.268\n",
      "2:  0.071\n"
     ]
    }
   ],
   "source": [
    "sfa = dfa[df[\"Failure Type\"] != \"No Failure\"].groupby(by=[\"Failure Type\",\"Type\"])[\"Type\"].count()\n",
    "failures_list2 = failures_list\n",
    "failures_list2.remove(\"No Failure\")\n",
    "for i in failures_list2:\n",
    "    print(i)\n",
    "    for j in range(3):\n",
    "        print(str(j) + \":  \" + str(round(sfa[i][j]/(sfa[i][0]+sfa[i][1]+sfa[i][2]),3)))    "
   ]
  },
  {
   "cell_type": "markdown",
   "id": "5426195d-916a-498f-b14e-1f8dff5fc219",
   "metadata": {},
   "source": [
    "Este utimo analisis nos lleva a una conclusion muy importante y es que las piezas de menor calidad siempre van a fallar de forma mucho mas frecuente, en especial por sobre carga.\n",
    "\n",
    "Mas a fondo se debe hacer el analisis sobre el costo/beneficio de tener una pieza de mejor calidad. \n",
    "\n",
    "Se debe evitar aplicar mucho torque cuando se usen piezas de menos calidad. ¿por que?"
   ]
  },
  {
   "cell_type": "markdown",
   "id": "12fd3b5e-dee0-46ae-a346-4aad24128219",
   "metadata": {},
   "source": [
    "### ¿Cuales son las fallas mas frecuentes?"
   ]
  },
  {
   "cell_type": "code",
   "execution_count": 10,
   "id": "ca68945b-00c8-4022-8803-1956c87a5976",
   "metadata": {},
   "outputs": [
    {
     "data": {
      "text/plain": [
       "Failure Type\n",
       "Heat Dissipation Failure    22.4\n",
       "Overstrain Failure          15.6\n",
       "Power Failure               19.0\n",
       "Random Failures              3.6\n",
       "Tool Wear Failure            9.0\n",
       "Name: Failure Type, dtype: float64"
      ]
     },
     "execution_count": 10,
     "metadata": {},
     "output_type": "execute_result"
    }
   ],
   "source": [
    "sfa2 = dfa[df[\"Failure Type\"] != \"No Failure\"].groupby(by=[\"Failure Type\"])[\"Failure Type\"]\n",
    "sfa2.count()/sfa2.count().count()"
   ]
  },
  {
   "cell_type": "markdown",
   "id": "5f6aaff3-4386-4725-8693-376bd712c2f0",
   "metadata": {},
   "source": [
    "# Preparacion de los datos para el modelo\n"
   ]
  },
  {
   "cell_type": "code",
   "execution_count": 11,
   "id": "b13abe96-18bf-4625-b2a4-93da7e71b2cf",
   "metadata": {},
   "outputs": [],
   "source": [
    "feature_cols = [\"Air temperature [K]\",\"Process temperature [K]\",\"Rotational speed [rpm]\",\"Torque [Nm]\",\"Tool wear [min]\"]\n",
    "target_col = [\"Target\"]\n",
    "X = dfa[feature_cols]\n",
    "y = dfa[target_col]\n",
    "X_train, X_test, y_train, y_test = train_test_split(X, y, test_size=0.3, random_state=2)"
   ]
  },
  {
   "cell_type": "markdown",
   "id": "71f8f955-becf-4507-887d-602b5b1b9077",
   "metadata": {},
   "source": [
    "# Entrenar y evaluar el modelo\n",
    "Para entrenar el modelo, primer creamos un objeto <DecisionTreeClassifier> sobre la cual se puede especificar varios parametros como se detalla en el API https://scikit-learn.org/stable/modules/generated/sklearn.tree.DecisionTreeClassifier.html#sklearn.tree.DecisionTreeClassifier\n",
    "    \n",
    "Despues usamos el metodo <fit> para realizar el entrenamiento entregando como argumentos los features (X) y los targets (y)."
   ]
  },
  {
   "cell_type": "code",
   "execution_count": 12,
   "id": "883634bd-a98a-4383-a763-32a91686d8d2",
   "metadata": {},
   "outputs": [],
   "source": [
    "clf = DecisionTreeClassifier() #crear el classifier con todo por defecto\n",
    "clf = clf.fit(X_train,y_train) #entrenar el modelo con los datos de entrenamiento"
   ]
  },
  {
   "cell_type": "markdown",
   "id": "ed2c699b-a962-42bc-8855-9ef05d684b58",
   "metadata": {},
   "source": [
    "Para usar el modelo con datos nuevos, se debe usar el metodo predict, que resive una lista o arreglo de datos a evaluar y retorna un arreglo de respuestas. El modelo siempre se debe evaluar sobre datos que no esten en el conjunto de entrenamiento, por eso previamente separamos un subconjunto llamado X_test y y_test"
   ]
  },
  {
   "cell_type": "code",
   "execution_count": 13,
   "id": "8e17e14a-54ff-42be-9833-6c5464aac825",
   "metadata": {},
   "outputs": [
    {
     "data": {
      "text/plain": [
       "array([0, 0, 0, ..., 0, 0, 0], dtype=int64)"
      ]
     },
     "execution_count": 13,
     "metadata": {},
     "output_type": "execute_result"
    }
   ],
   "source": [
    "y_pred = clf.predict(X_test)\n",
    "y_pred"
   ]
  },
  {
   "cell_type": "markdown",
   "id": "bc13e237-1228-4b61-8a94-5d0ab98e19ad",
   "metadata": {},
   "source": [
    "### Evaluar el modelo"
   ]
  },
  {
   "cell_type": "code",
   "execution_count": 14,
   "id": "8b0d6ba2-ef54-4909-a8a8-cf6e48a1094f",
   "metadata": {},
   "outputs": [
    {
     "data": {
      "text/plain": [
       "0.9786666666666667"
      ]
     },
     "execution_count": 14,
     "metadata": {},
     "output_type": "execute_result"
    }
   ],
   "source": [
    "metrics.accuracy_score(y_pred, y_test)"
   ]
  },
  {
   "cell_type": "markdown",
   "id": "1ba191de-e02d-45dc-abd9-9f9cd6a7c03a",
   "metadata": {
    "tags": []
   },
   "source": [
    "Esto parece una prediccion muy buena, pero es peligrosa porque la mayoria de nuestros datos son de un mismo target, es decir, los datos de entrenamiento estan desvalanceados y esto puede hacer que el modelo se ajuste por la cantidad y no por las metricas deseadas."
   ]
  },
  {
   "cell_type": "code",
   "execution_count": 15,
   "id": "4576019d-551b-44cb-8ed7-69fb975b1aca",
   "metadata": {},
   "outputs": [
    {
     "data": {
      "text/plain": [
       "Target    0.966\n",
       "dtype: float64"
      ]
     },
     "execution_count": 15,
     "metadata": {},
     "output_type": "execute_result"
    }
   ],
   "source": [
    "y_train[y_train[\"Target\"]==0].count()/y_train.count() #porcentaje de datos que son 0"
   ]
  },
  {
   "cell_type": "markdown",
   "id": "b7d06c7d-c7e7-43eb-8b23-677fc6904e7f",
   "metadata": {},
   "source": [
    "Para mejorar esta situacion, podemos equilibrar los datos dejando un 40% para fallas y un 60% para no fallas"
   ]
  },
  {
   "cell_type": "code",
   "execution_count": 16,
   "id": "44e7bcaa-e087-4589-8d0d-2f8c36c4190e",
   "metadata": {},
   "outputs": [
    {
     "data": {
      "text/html": [
       "<div>\n",
       "<style scoped>\n",
       "    .dataframe tbody tr th:only-of-type {\n",
       "        vertical-align: middle;\n",
       "    }\n",
       "\n",
       "    .dataframe tbody tr th {\n",
       "        vertical-align: top;\n",
       "    }\n",
       "\n",
       "    .dataframe thead th {\n",
       "        text-align: right;\n",
       "    }\n",
       "</style>\n",
       "<table border=\"1\" class=\"dataframe\">\n",
       "  <thead>\n",
       "    <tr style=\"text-align: right;\">\n",
       "      <th></th>\n",
       "      <th>Air temperature [K]</th>\n",
       "      <th>Process temperature [K]</th>\n",
       "      <th>Rotational speed [rpm]</th>\n",
       "      <th>Torque [Nm]</th>\n",
       "      <th>Tool wear [min]</th>\n",
       "    </tr>\n",
       "  </thead>\n",
       "  <tbody>\n",
       "    <tr>\n",
       "      <th>71</th>\n",
       "      <td>298.9</td>\n",
       "      <td>309.1</td>\n",
       "      <td>1452</td>\n",
       "      <td>45.5</td>\n",
       "      <td>196</td>\n",
       "    </tr>\n",
       "    <tr>\n",
       "      <th>4677</th>\n",
       "      <td>303.5</td>\n",
       "      <td>311.6</td>\n",
       "      <td>1466</td>\n",
       "      <td>47.0</td>\n",
       "      <td>80</td>\n",
       "    </tr>\n",
       "    <tr>\n",
       "      <th>9199</th>\n",
       "      <td>297.9</td>\n",
       "      <td>308.8</td>\n",
       "      <td>1613</td>\n",
       "      <td>31.4</td>\n",
       "      <td>57</td>\n",
       "    </tr>\n",
       "    <tr>\n",
       "      <th>8609</th>\n",
       "      <td>297.4</td>\n",
       "      <td>308.3</td>\n",
       "      <td>1475</td>\n",
       "      <td>40.5</td>\n",
       "      <td>222</td>\n",
       "    </tr>\n",
       "    <tr>\n",
       "      <th>2929</th>\n",
       "      <td>300.8</td>\n",
       "      <td>309.7</td>\n",
       "      <td>1482</td>\n",
       "      <td>39.0</td>\n",
       "      <td>171</td>\n",
       "    </tr>\n",
       "    <tr>\n",
       "      <th>...</th>\n",
       "      <td>...</td>\n",
       "      <td>...</td>\n",
       "      <td>...</td>\n",
       "      <td>...</td>\n",
       "      <td>...</td>\n",
       "    </tr>\n",
       "    <tr>\n",
       "      <th>9414</th>\n",
       "      <td>298.1</td>\n",
       "      <td>308.6</td>\n",
       "      <td>1354</td>\n",
       "      <td>53.9</td>\n",
       "      <td>207</td>\n",
       "    </tr>\n",
       "    <tr>\n",
       "      <th>4886</th>\n",
       "      <td>303.8</td>\n",
       "      <td>312.5</td>\n",
       "      <td>1372</td>\n",
       "      <td>45.7</td>\n",
       "      <td>180</td>\n",
       "    </tr>\n",
       "    <tr>\n",
       "      <th>6540</th>\n",
       "      <td>301.4</td>\n",
       "      <td>310.7</td>\n",
       "      <td>1368</td>\n",
       "      <td>63.7</td>\n",
       "      <td>92</td>\n",
       "    </tr>\n",
       "    <tr>\n",
       "      <th>9955</th>\n",
       "      <td>298.2</td>\n",
       "      <td>307.9</td>\n",
       "      <td>1462</td>\n",
       "      <td>38.8</td>\n",
       "      <td>124</td>\n",
       "    </tr>\n",
       "    <tr>\n",
       "      <th>2941</th>\n",
       "      <td>300.7</td>\n",
       "      <td>309.6</td>\n",
       "      <td>1996</td>\n",
       "      <td>19.8</td>\n",
       "      <td>203</td>\n",
       "    </tr>\n",
       "  </tbody>\n",
       "</table>\n",
       "<p>224 rows × 5 columns</p>\n",
       "</div>"
      ],
      "text/plain": [
       "      Air temperature [K]  Process temperature [K]  Rotational speed [rpm]  \\\n",
       "71                  298.9                    309.1                    1452   \n",
       "4677                303.5                    311.6                    1466   \n",
       "9199                297.9                    308.8                    1613   \n",
       "8609                297.4                    308.3                    1475   \n",
       "2929                300.8                    309.7                    1482   \n",
       "...                   ...                      ...                     ...   \n",
       "9414                298.1                    308.6                    1354   \n",
       "4886                303.8                    312.5                    1372   \n",
       "6540                301.4                    310.7                    1368   \n",
       "9955                298.2                    307.9                    1462   \n",
       "2941                300.7                    309.6                    1996   \n",
       "\n",
       "      Torque [Nm]  Tool wear [min]  \n",
       "71           45.5              196  \n",
       "4677         47.0               80  \n",
       "9199         31.4               57  \n",
       "8609         40.5              222  \n",
       "2929         39.0              171  \n",
       "...           ...              ...  \n",
       "9414         53.9              207  \n",
       "4886         45.7              180  \n",
       "6540         63.7               92  \n",
       "9955         38.8              124  \n",
       "2941         19.8              203  \n",
       "\n",
       "[224 rows x 5 columns]"
      ]
     },
     "execution_count": 16,
     "metadata": {},
     "output_type": "execute_result"
    }
   ],
   "source": [
    "#sacamos un df solo con las fallas\n",
    "dfa_1 = dfa[df[\"Target\"] != 0]\n",
    "#sacamos un df solo con las no fallas pero 1.2 veces mas grande que el dfa_1\n",
    "dfa_2 = dfa[df[\"Target\"] == 0].sample(int(len(dfa_1)*1.2))\n",
    "#concatenamos para crear el definitivo\n",
    "dfa_3 = pd.concat([dfa_1, dfa_2])\n",
    "X = dfa_3[feature_cols]\n",
    "y = dfa_3[target_col]\n",
    "X_train, X_test, y_train, y_test = train_test_split(X, y, test_size=0.3, random_state=3)\n",
    "X_test"
   ]
  },
  {
   "cell_type": "code",
   "execution_count": 17,
   "id": "1eb346ab-9747-45b3-888e-d016acf9fd95",
   "metadata": {},
   "outputs": [],
   "source": [
    "clf = DecisionTreeClassifier() #crear el classifier con todo por defecto\n",
    "clf = clf.fit(X_train,y_train) #entrenar el modelo con los datos de entrenamiento"
   ]
  },
  {
   "cell_type": "code",
   "execution_count": 18,
   "id": "879338e2-b051-43e4-8eb4-53bc8a11eb5d",
   "metadata": {},
   "outputs": [
    {
     "data": {
      "text/plain": [
       "array([0, 0, 0, 1, 0, 1, 0, 1, 1, 1, 0, 0, 1, 0, 0, 1, 0, 0, 0, 1, 1, 0,\n",
       "       1, 1, 1, 1, 0, 1, 0, 0, 1, 1, 0, 1, 0, 1, 1, 1, 0, 1, 0, 1, 0, 0,\n",
       "       0, 0, 0, 0, 0, 0, 0, 1, 1, 0, 0, 1, 1, 0, 1, 0, 1, 1, 1, 0, 0, 0,\n",
       "       0, 0, 1, 1, 0, 1, 1, 0, 1, 1, 0, 0, 0, 1, 1, 0, 1, 0, 0, 1, 1, 1,\n",
       "       0, 0, 1, 1, 1, 0, 0, 1, 0, 0, 0, 1, 1, 0, 0, 0, 1, 1, 0, 1, 0, 0,\n",
       "       0, 0, 1, 1, 1, 1, 1, 0, 0, 1, 0, 0, 1, 0, 0, 0, 1, 1, 1, 0, 1, 0,\n",
       "       0, 0, 1, 0, 0, 0, 0, 1, 1, 0, 0, 0, 0, 1, 1, 1, 1, 1, 0, 1, 0, 0,\n",
       "       0, 0, 1, 0, 1, 0, 1, 0, 1, 0, 1, 1, 0, 1, 1, 0, 1, 0, 0, 0, 1, 0,\n",
       "       1, 0, 0, 0, 1, 0, 0, 0, 1, 0, 0, 1, 0, 0, 0, 1, 0, 0, 1, 0, 0, 0,\n",
       "       0, 0, 1, 1, 0, 0, 0, 1, 1, 1, 0, 1, 0, 1, 0, 1, 1, 0, 1, 1, 1, 1,\n",
       "       1, 0, 0, 0], dtype=int64)"
      ]
     },
     "execution_count": 18,
     "metadata": {},
     "output_type": "execute_result"
    }
   ],
   "source": [
    "y_pred = clf.predict(X_test)\n",
    "y_pred"
   ]
  },
  {
   "cell_type": "code",
   "execution_count": 19,
   "id": "b4e6c399-10db-4a94-9c62-e67e5f90c2ba",
   "metadata": {},
   "outputs": [
    {
     "data": {
      "text/plain": [
       "0.8973214285714286"
      ]
     },
     "execution_count": 19,
     "metadata": {},
     "output_type": "execute_result"
    }
   ],
   "source": [
    "metrics.accuracy_score(y_pred, y_test)"
   ]
  },
  {
   "cell_type": "markdown",
   "id": "a76afdff-dda8-4cdb-ac6f-c8e4286593d5",
   "metadata": {},
   "source": [
    "vemos que la precision se redujo, pero es normal la reducir tanto el dataset."
   ]
  },
  {
   "cell_type": "markdown",
   "id": "bfb039ab-400a-4921-88ea-6731382b3f6c",
   "metadata": {},
   "source": [
    "# Random Forest\n",
    "Ahora aplicaremos lo mismo para el random forest"
   ]
  },
  {
   "cell_type": "code",
   "execution_count": 20,
   "id": "0d98e270-9dce-4946-af62-33730c1d6dfc",
   "metadata": {},
   "outputs": [],
   "source": [
    "clf_2 = RandomForestClassifier(max_depth=2, random_state=0)"
   ]
  },
  {
   "cell_type": "code",
   "execution_count": 21,
   "id": "48d96be8-029a-4b09-aff7-8a8b35605540",
   "metadata": {},
   "outputs": [
    {
     "data": {
      "text/plain": [
       "RandomForestClassifier(max_depth=2, random_state=0)"
      ]
     },
     "execution_count": 21,
     "metadata": {},
     "output_type": "execute_result"
    }
   ],
   "source": [
    "clf_2.fit(X_train, y_train.values.ravel()) #notar que se debe usar .values.ravel()"
   ]
  },
  {
   "cell_type": "code",
   "execution_count": 22,
   "id": "91db7865-aaf5-417d-ab1d-2ef74687051f",
   "metadata": {},
   "outputs": [],
   "source": [
    "y_pred = clf_2.predict(X_test)"
   ]
  },
  {
   "cell_type": "code",
   "execution_count": 23,
   "id": "92d3411a-a6eb-4edf-9484-de565f66f530",
   "metadata": {},
   "outputs": [
    {
     "data": {
      "text/plain": [
       "0.8616071428571429"
      ]
     },
     "execution_count": 23,
     "metadata": {},
     "output_type": "execute_result"
    }
   ],
   "source": [
    "metrics.accuracy_score(y_pred, y_test)"
   ]
  },
  {
   "cell_type": "code",
   "execution_count": 24,
   "id": "fa7363bc-d133-40e4-be22-0d65066567fd",
   "metadata": {},
   "outputs": [
    {
     "name": "stdout",
     "output_type": "stream",
     "text": [
      "relacion ----- 339/101\n",
      "DT: 0.8681818181818182\n",
      "RF: 0.9136363636363637\n",
      "relacion ----- 339/169\n",
      "DT: 0.8149097262667443\n",
      "RF: 0.8739856338575034\n",
      "relacion ----- 339/237\n",
      "DT: 0.8143478260869565\n",
      "RF: 0.8559820089955021\n",
      "relacion ----- 339/305\n",
      "DT: 0.7423328488372094\n",
      "RF: 0.8742974806201552\n",
      "relacion ----- 339/372\n",
      "DT: 0.7863488624052004\n",
      "RF: 0.8481729538067567\n",
      "relacion ----- 339/440\n",
      "DT: 0.7690653432588916\n",
      "RF: 0.8087510339123243\n",
      "relacion ----- 339/508\n",
      "DT: 0.7602297250261051\n",
      "RF: 0.8583780020884093\n",
      "relacion ----- 339/576\n",
      "DT: 0.7781420765027323\n",
      "RF: 0.8120218579234972\n",
      "relacion ----- 339/644\n",
      "DT: 0.803656894229773\n",
      "RF: 0.8281311509375324\n",
      "relacion ----- 339/711\n",
      "DT: 0.7847619047619048\n",
      "RF: 0.8523809523809524\n"
     ]
    }
   ],
   "source": [
    "j=0.1\n",
    "for i in range(10):\n",
    "    j = j+0.2\n",
    "    dfa_1 = dfa[df[\"Target\"] != 0]\n",
    "    dfa_2 = dfa[df[\"Target\"] == 0].sample(int(len(dfa_1)*j))\n",
    "    dfa_3 = pd.concat([dfa_1, dfa_2])\n",
    "    X = dfa_3[feature_cols]\n",
    "    y = dfa_3[target_col]\n",
    "    clf_1 = DecisionTreeClassifier(max_depth=3, random_state=0) #crear el classifier con todo por defecto\n",
    "    clf_2 = RandomForestClassifier(max_depth=3, random_state=0)\n",
    "    print(\"relacion ----- \" + str(len(dfa_1)) + \"/\" + str(len(dfa_2)))\n",
    "    print(\"DT: \" + str(cross_val_score(clf_1, X, y, cv = 5).mean()))\n",
    "    print(\"RF: \" + str(cross_val_score(clf_2, X, y.values.ravel(), cv = 5).mean()))"
   ]
  },
  {
   "cell_type": "markdown",
   "id": "8d0fe258",
   "metadata": {},
   "source": [
    "## Evaluar el rendimiento"
   ]
  },
  {
   "cell_type": "code",
   "execution_count": 25,
   "id": "3e033c94-101d-4a47-b248-b93117eac737",
   "metadata": {},
   "outputs": [
    {
     "name": "stdout",
     "output_type": "stream",
     "text": [
      "relacion ----- 339/101\n",
      "DT: 0.46153846153846156\n",
      "RF: 0.9743589743589743\n",
      "relacion ----- 339/169\n",
      "DT: 0.6923076923076923\n",
      "RF: 0.7435897435897436\n",
      "relacion ----- 339/237\n",
      "DT: 0.6153846153846154\n",
      "RF: 0.8205128205128205\n",
      "relacion ----- 339/305\n",
      "DT: 0.2564102564102564\n",
      "RF: 0.5641025641025641\n",
      "relacion ----- 339/372\n",
      "DT: 0.5897435897435898\n",
      "RF: 0.5384615384615384\n",
      "relacion ----- 339/440\n",
      "DT: 0.5897435897435898\n",
      "RF: 0.5128205128205128\n",
      "relacion ----- 339/508\n",
      "DT: 0.15384615384615385\n",
      "RF: 0.48717948717948717\n",
      "relacion ----- 339/576\n",
      "DT: 0.15384615384615385\n",
      "RF: 0.48717948717948717\n",
      "relacion ----- 339/644\n",
      "DT: 0.15384615384615385\n",
      "RF: 0.46153846153846156\n",
      "relacion ----- 339/711\n",
      "DT: 0.15384615384615385\n",
      "RF: 0.46153846153846156\n",
      "relacion ----- 339/779\n",
      "DT: 0.15384615384615385\n",
      "RF: 0.46153846153846156\n",
      "relacion ----- 339/847\n",
      "DT: 0.15384615384615385\n",
      "RF: 0.48717948717948717\n",
      "relacion ----- 339/915\n",
      "DT: 0.0\n",
      "RF: 0.3333333333333333\n",
      "relacion ----- 339/983\n",
      "DT: 0.1282051282051282\n",
      "RF: 0.20512820512820512\n",
      "relacion ----- 339/1050\n",
      "DT: 0.15384615384615385\n",
      "RF: 0.4358974358974359\n",
      "relacion ----- 339/1118\n",
      "DT: 0.15384615384615385\n",
      "RF: 0.20512820512820512\n",
      "relacion ----- 339/1186\n",
      "DT: 0.0\n",
      "RF: 0.23076923076923078\n",
      "relacion ----- 339/1254\n",
      "DT: 0.0\n",
      "RF: 0.23076923076923078\n",
      "relacion ----- 339/1322\n",
      "DT: 0.0\n",
      "RF: 0.15384615384615385\n",
      "relacion ----- 339/1389\n",
      "DT: 0.0\n",
      "RF: 0.20512820512820512\n",
      "relacion ----- 339/1457\n",
      "DT: 0.0\n",
      "RF: 0.15384615384615385\n",
      "relacion ----- 339/1525\n",
      "DT: 0.1794871794871795\n",
      "RF: 0.1282051282051282\n",
      "relacion ----- 339/1593\n",
      "DT: 0.1794871794871795\n",
      "RF: 0.10256410256410256\n",
      "relacion ----- 339/1661\n",
      "DT: 0.1794871794871795\n",
      "RF: 0.1282051282051282\n",
      "relacion ----- 339/1728\n",
      "DT: 0.1794871794871795\n",
      "RF: 0.07692307692307693\n",
      "relacion ----- 339/1796\n",
      "DT: 0.1794871794871795\n",
      "RF: 0.15384615384615385\n",
      "relacion ----- 339/1864\n",
      "DT: 0.0\n",
      "RF: 0.1282051282051282\n",
      "relacion ----- 339/1932\n",
      "DT: 0.1794871794871795\n",
      "RF: 0.10256410256410256\n",
      "relacion ----- 339/2000\n",
      "DT: 0.1794871794871795\n",
      "RF: 0.10256410256410256\n",
      "relacion ----- 339/2067\n",
      "DT: 0.1794871794871795\n",
      "RF: 0.07692307692307693\n"
     ]
    }
   ],
   "source": [
    "j=0.1\n",
    "x_axis = []\n",
    "y1_axis = []\n",
    "y2_axis = []\n",
    "for i in range(30):\n",
    "    #vamos a cambiar el grupo de entrenamiento aumentando gradualmente el numero de no fallas sobre el de fallas\n",
    "    j = j+0.2\n",
    "    dfa_1 = dfa[df[\"Target\"] != 0]\n",
    "    dfa_test = dfa_1[:39]\n",
    "    dfa_2 = dfa[df[\"Target\"] == 0].sample(int(len(dfa_1)*j))\n",
    "    #sacamos para evaluar con un grupo de 39 datos solo de las fallas\n",
    "    dfa_train = pd.concat([dfa_1[39:], dfa_2])  #creamos el grupo para entrenamiento\n",
    "    X_train = dfa_train[feature_cols]\n",
    "    y_train = dfa_train[target_col]\n",
    "    X_test = dfa_test[feature_cols]\n",
    "    y_test = dfa_test[target_col]\n",
    "    #creamos los modelos, aqui se puede variar la profundidad limite del arbol\n",
    "    clf_1 = DecisionTreeClassifier(max_depth=2, random_state=0)\n",
    "    clf_1 = clf_1.fit(X_train,y_train) #entrenar\n",
    "    clf_2 = RandomForestClassifier(max_depth=2, random_state=0)\n",
    "    clf_2 = clf_2.fit(X_train,y_train.values.ravel()) #entrenar\n",
    "    print(\"relacion ----- \" + str(len(dfa_1)) + \"/\" + str(len(dfa_2)))\n",
    "    x_axis.append(len(dfa_2)/len(dfa_1))\n",
    "    m1 = clf_1.predict(X_test)\n",
    "    m2 = clf_2.predict(X_test)\n",
    "    print(\"DT: \" + str(metrics.accuracy_score(m1,y_test)))\n",
    "    y1_axis.append(metrics.accuracy_score(m1, y_test))\n",
    "    print(\"RF: \" + str(metrics.accuracy_score(m2, y_test)))\n",
    "    y2_axis.append(metrics.accuracy_score(m2, y_test))"
   ]
  },
  {
   "cell_type": "code",
   "execution_count": 26,
   "id": "d715885c-fc16-4225-8dba-a2df0875ea86",
   "metadata": {},
   "outputs": [
    {
     "data": {
      "image/png": "[encoded data removed]",
      "text/plain": [
       "<Figure size 432x288 with 1 Axes>"
      ]
     },
     "metadata": {
      "needs_background": "light"
     },
     "output_type": "display_data"
    }
   ],
   "source": [
    "import matplotlib.pyplot as plt\n",
    "fig = plt.figure()\n",
    "ax = fig.add_subplot(1, 1, 1)\n",
    "ax.plot(x_axis, y1_axis, color='tab:blue')\n",
    "ax.plot(x_axis, y2_axis, color='tab:orange')\n",
    "plt.show()"
   ]
  },
  {
   "cell_type": "code",
   "execution_count": 27,
   "id": "3cdf327b",
   "metadata": {},
   "outputs": [
    {
     "data": {
      "text/plain": [
       "[Text(189.0465517241379, 206.56799999999998, 'X[2] <= 1401.5\\ngini = 0.495\\nsamples = 521\\nvalue = [286, 235]'),\n",
       " Text(120.49913793103448, 184.824, 'X[0] <= 301.95\\ngini = 0.337\\nsamples = 205\\nvalue = [44, 161]'),\n",
       " Text(79.37068965517241, 163.07999999999998, 'X[3] <= 55.5\\ngini = 0.439\\nsamples = 126\\nvalue = [41, 85]'),\n",
       " Text(31.748275862068965, 141.336, 'X[4] <= 200.5\\ngini = 0.485\\nsamples = 58\\nvalue = [34, 24]'),\n",
       " Text(11.544827586206896, 119.592, 'X[0] <= 301.4\\ngini = 0.165\\nsamples = 33\\nvalue = [30, 3]'),\n",
       " Text(5.772413793103448, 97.848, 'gini = 0.0\\nsamples = 29\\nvalue = [29, 0]'),\n",
       " Text(17.317241379310346, 97.848, 'X[3] <= 46.85\\ngini = 0.375\\nsamples = 4\\nvalue = [1, 3]'),\n",
       " Text(11.544827586206896, 76.10399999999998, 'gini = 0.0\\nsamples = 1\\nvalue = [1, 0]'),\n",
       " Text(23.089655172413792, 76.10399999999998, 'gini = 0.0\\nsamples = 3\\nvalue = [0, 3]'),\n",
       " Text(51.95172413793103, 119.592, 'X[3] <= 43.75\\ngini = 0.269\\nsamples = 25\\nvalue = [4, 21]'),\n",
       " Text(40.40689655172414, 97.848, 'X[4] <= 219.5\\ngini = 0.444\\nsamples = 3\\nvalue = [2, 1]'),\n",
       " Text(34.63448275862069, 76.10399999999998, 'gini = 0.0\\nsamples = 2\\nvalue = [2, 0]'),\n",
       " Text(46.179310344827584, 76.10399999999998, 'gini = 0.0\\nsamples = 1\\nvalue = [0, 1]'),\n",
       " Text(63.49655172413793, 97.848, 'X[1] <= 308.05\\ngini = 0.165\\nsamples = 22\\nvalue = [2, 20]'),\n",
       " Text(57.72413793103448, 76.10399999999998, 'gini = 0.0\\nsamples = 1\\nvalue = [1, 0]'),\n",
       " Text(69.26896551724138, 76.10399999999998, 'X[1] <= 310.55\\ngini = 0.091\\nsamples = 21\\nvalue = [1, 20]'),\n",
       " Text(63.49655172413793, 54.360000000000014, 'gini = 0.0\\nsamples = 18\\nvalue = [0, 18]'),\n",
       " Text(75.04137931034482, 54.360000000000014, 'X[0] <= 299.35\\ngini = 0.444\\nsamples = 3\\nvalue = [1, 2]'),\n",
       " Text(69.26896551724138, 32.615999999999985, 'gini = 0.0\\nsamples = 1\\nvalue = [1, 0]'),\n",
       " Text(80.81379310344828, 32.615999999999985, 'gini = 0.0\\nsamples = 2\\nvalue = [0, 2]'),\n",
       " Text(126.99310344827586, 141.336, 'X[1] <= 312.15\\ngini = 0.185\\nsamples = 68\\nvalue = [7, 61]'),\n",
       " Text(121.22068965517241, 119.592, 'X[4] <= 169.0\\ngini = 0.163\\nsamples = 67\\nvalue = [6, 61]'),\n",
       " Text(115.44827586206895, 97.848, 'X[3] <= 63.75\\ngini = 0.298\\nsamples = 33\\nvalue = [6, 27]'),\n",
       " Text(109.67586206896551, 76.10399999999998, 'X[1] <= 310.25\\ngini = 0.497\\nsamples = 13\\nvalue = [6, 7]'),\n",
       " Text(98.13103448275862, 54.360000000000014, 'X[0] <= 299.75\\ngini = 0.375\\nsamples = 8\\nvalue = [2, 6]'),\n",
       " Text(92.35862068965517, 32.615999999999985, 'X[1] <= 308.65\\ngini = 0.444\\nsamples = 3\\nvalue = [2, 1]'),\n",
       " Text(86.58620689655172, 10.872000000000014, 'gini = 0.0\\nsamples = 1\\nvalue = [0, 1]'),\n",
       " Text(98.13103448275862, 10.872000000000014, 'gini = 0.0\\nsamples = 2\\nvalue = [2, 0]'),\n",
       " Text(103.90344827586206, 32.615999999999985, 'gini = 0.0\\nsamples = 5\\nvalue = [0, 5]'),\n",
       " Text(121.22068965517241, 54.360000000000014, 'X[2] <= 1288.5\\ngini = 0.32\\nsamples = 5\\nvalue = [4, 1]'),\n",
       " Text(115.44827586206895, 32.615999999999985, 'gini = 0.0\\nsamples = 1\\nvalue = [0, 1]'),\n",
       " Text(126.99310344827586, 32.615999999999985, 'gini = 0.0\\nsamples = 4\\nvalue = [4, 0]'),\n",
       " Text(121.22068965517241, 76.10399999999998, 'gini = 0.0\\nsamples = 20\\nvalue = [0, 20]'),\n",
       " Text(126.99310344827586, 97.848, 'gini = 0.0\\nsamples = 34\\nvalue = [0, 34]'),\n",
       " Text(132.7655172413793, 119.592, 'gini = 0.0\\nsamples = 1\\nvalue = [1, 0]'),\n",
       " Text(161.62758620689655, 163.07999999999998, 'X[1] <= 312.55\\ngini = 0.073\\nsamples = 79\\nvalue = [3, 76]'),\n",
       " Text(150.08275862068965, 141.336, 'X[2] <= 1390.0\\ngini = 0.026\\nsamples = 76\\nvalue = [1, 75]'),\n",
       " Text(144.3103448275862, 119.592, 'gini = 0.0\\nsamples = 74\\nvalue = [0, 74]'),\n",
       " Text(155.8551724137931, 119.592, 'X[1] <= 311.45\\ngini = 0.5\\nsamples = 2\\nvalue = [1, 1]'),\n",
       " Text(150.08275862068965, 97.848, 'gini = 0.0\\nsamples = 1\\nvalue = [1, 0]'),\n",
       " Text(161.62758620689655, 97.848, 'gini = 0.0\\nsamples = 1\\nvalue = [0, 1]'),\n",
       " Text(173.17241379310343, 141.336, 'X[4] <= 151.5\\ngini = 0.444\\nsamples = 3\\nvalue = [2, 1]'),\n",
       " Text(167.4, 119.592, 'gini = 0.0\\nsamples = 2\\nvalue = [2, 0]'),\n",
       " Text(178.94482758620688, 119.592, 'gini = 0.0\\nsamples = 1\\nvalue = [0, 1]'),\n",
       " Text(257.5939655172414, 184.824, 'X[4] <= 202.5\\ngini = 0.359\\nsamples = 316\\nvalue = [242, 74]'),\n",
       " Text(217.90862068965515, 163.07999999999998, 'X[3] <= 16.15\\ngini = 0.234\\nsamples = 266\\nvalue = [230, 36]'),\n",
       " Text(196.26206896551724, 141.336, 'X[3] <= 13.6\\ngini = 0.083\\nsamples = 23\\nvalue = [1, 22]'),\n",
       " Text(190.4896551724138, 119.592, 'gini = 0.0\\nsamples = 20\\nvalue = [0, 20]'),\n",
       " Text(202.03448275862067, 119.592, 'X[2] <= 2359.5\\ngini = 0.444\\nsamples = 3\\nvalue = [1, 2]'),\n",
       " Text(196.26206896551724, 97.848, 'gini = 0.0\\nsamples = 2\\nvalue = [0, 2]'),\n",
       " Text(207.80689655172412, 97.848, 'gini = 0.0\\nsamples = 1\\nvalue = [1, 0]'),\n",
       " Text(239.5551724137931, 141.336, 'X[3] <= 58.0\\ngini = 0.109\\nsamples = 243\\nvalue = [229, 14]'),\n",
       " Text(233.78275862068963, 119.592, 'X[0] <= 303.55\\ngini = 0.026\\nsamples = 232\\nvalue = [229, 3]'),\n",
       " Text(219.35172413793103, 97.848, 'X[3] <= 48.4\\ngini = 0.018\\nsamples = 223\\nvalue = [221, 2]'),\n",
       " Text(207.80689655172412, 76.10399999999998, 'X[3] <= 27.4\\ngini = 0.01\\nsamples = 206\\nvalue = [205, 1]'),\n",
       " Text(202.03448275862067, 54.360000000000014, 'X[3] <= 27.25\\ngini = 0.095\\nsamples = 20\\nvalue = [19, 1]'),\n",
       " Text(196.26206896551724, 32.615999999999985, 'gini = 0.0\\nsamples = 19\\nvalue = [19, 0]'),\n",
       " Text(207.80689655172412, 32.615999999999985, 'gini = 0.0\\nsamples = 1\\nvalue = [0, 1]'),\n",
       " Text(213.57931034482758, 54.360000000000014, 'gini = 0.0\\nsamples = 186\\nvalue = [186, 0]'),\n",
       " Text(230.8965517241379, 76.10399999999998, 'X[3] <= 48.55\\ngini = 0.111\\nsamples = 17\\nvalue = [16, 1]'),\n",
       " Text(225.12413793103448, 54.360000000000014, 'gini = 0.0\\nsamples = 1\\nvalue = [0, 1]'),\n",
       " Text(236.66896551724136, 54.360000000000014, 'gini = 0.0\\nsamples = 16\\nvalue = [16, 0]'),\n",
       " Text(248.21379310344827, 97.848, 'X[1] <= 311.9\\ngini = 0.198\\nsamples = 9\\nvalue = [8, 1]'),\n",
       " Text(242.44137931034481, 76.10399999999998, 'gini = 0.0\\nsamples = 1\\nvalue = [0, 1]'),\n",
       " Text(253.98620689655172, 76.10399999999998, 'gini = 0.0\\nsamples = 8\\nvalue = [8, 0]'),\n",
       " Text(245.32758620689654, 119.592, 'gini = 0.0\\nsamples = 11\\nvalue = [0, 11]'),\n",
       " Text(297.2793103448276, 163.07999999999998, 'X[0] <= 303.55\\ngini = 0.365\\nsamples = 50\\nvalue = [12, 38]'),\n",
       " Text(291.50689655172414, 141.336, 'X[1] <= 309.7\\ngini = 0.31\\nsamples = 47\\nvalue = [9, 38]'),\n",
       " Text(277.07586206896553, 119.592, 'X[1] <= 309.4\\ngini = 0.444\\nsamples = 18\\nvalue = [6, 12]'),\n",
       " Text(271.3034482758621, 97.848, 'X[4] <= 233.5\\ngini = 0.32\\nsamples = 15\\nvalue = [3, 12]'),\n",
       " Text(265.5310344827586, 76.10399999999998, 'X[2] <= 1561.0\\ngini = 0.245\\nsamples = 14\\nvalue = [2, 12]'),\n",
       " Text(259.7586206896552, 54.360000000000014, 'gini = 0.0\\nsamples = 9\\nvalue = [0, 9]'),\n",
       " Text(271.3034482758621, 54.360000000000014, 'X[2] <= 1594.0\\ngini = 0.48\\nsamples = 5\\nvalue = [2, 3]'),\n",
       " Text(265.5310344827586, 32.615999999999985, 'gini = 0.0\\nsamples = 2\\nvalue = [2, 0]'),\n",
       " Text(277.07586206896553, 32.615999999999985, 'gini = 0.0\\nsamples = 3\\nvalue = [0, 3]'),\n",
       " Text(277.07586206896553, 76.10399999999998, 'gini = 0.0\\nsamples = 1\\nvalue = [1, 0]'),\n",
       " Text(282.84827586206893, 97.848, 'gini = 0.0\\nsamples = 3\\nvalue = [3, 0]'),\n",
       " Text(305.93793103448274, 119.592, 'X[3] <= 26.55\\ngini = 0.185\\nsamples = 29\\nvalue = [3, 26]'),\n",
       " Text(294.39310344827584, 97.848, 'X[4] <= 214.0\\ngini = 0.444\\nsamples = 6\\nvalue = [2, 4]'),\n",
       " Text(288.6206896551724, 76.10399999999998, 'X[0] <= 299.8\\ngini = 0.444\\nsamples = 3\\nvalue = [2, 1]'),\n",
       " Text(282.84827586206893, 54.360000000000014, 'gini = 0.0\\nsamples = 1\\nvalue = [0, 1]'),\n",
       " Text(294.39310344827584, 54.360000000000014, 'gini = 0.0\\nsamples = 2\\nvalue = [2, 0]'),\n",
       " Text(300.1655172413793, 76.10399999999998, 'gini = 0.0\\nsamples = 3\\nvalue = [0, 3]'),\n",
       " Text(317.48275862068965, 97.848, 'X[1] <= 312.1\\ngini = 0.083\\nsamples = 23\\nvalue = [1, 22]'),\n",
       " Text(311.7103448275862, 76.10399999999998, 'gini = 0.0\\nsamples = 19\\nvalue = [0, 19]'),\n",
       " Text(323.2551724137931, 76.10399999999998, 'X[2] <= 1513.0\\ngini = 0.375\\nsamples = 4\\nvalue = [1, 3]'),\n",
       " Text(317.48275862068965, 54.360000000000014, 'gini = 0.0\\nsamples = 3\\nvalue = [0, 3]'),\n",
       " Text(329.02758620689656, 54.360000000000014, 'gini = 0.0\\nsamples = 1\\nvalue = [1, 0]'),\n",
       " Text(303.05172413793105, 141.336, 'gini = 0.0\\nsamples = 3\\nvalue = [3, 0]')]"
      ]
     },
     "execution_count": 27,
     "metadata": {},
     "output_type": "execute_result"
    },
    {
     "data": {
      "image/png": "[encoded data removed]",
      "text/plain": [
       "<Figure size 432x288 with 1 Axes>"
      ]
     },
     "metadata": {
      "needs_background": "light"
     },
     "output_type": "display_data"
    }
   ],
   "source": [
    "tree.plot_tree(clf)"
   ]
  },
  {
   "cell_type": "markdown",
   "id": "6785264f",
   "metadata": {},
   "source": [
    "## Clasificacion por tipo de falla\n",
    "\n",
    "### Preparar los datos\n",
    "\n",
    "Ahora de deben dejar solo las filas que tienen falla y adicional pasar los tipo de fallar de un valor categorico a uno numerico\n"
   ]
  },
  {
   "cell_type": "code",
   "execution_count": 48,
   "id": "4b509a99",
   "metadata": {},
   "outputs": [],
   "source": [
    "dfa = df[df[\"Failure Type\"] != \"No Failure\"]\n",
    "dfa = pd.get_dummies(dfa, columns=[\"Failure Type\"], drop_first=True)\n",
    "feature_cols = [\"Air temperature [K]\",\"Process temperature [K]\",\"Rotational speed [rpm]\",\"Torque [Nm]\",\"Tool wear [min]\"]\n",
    "target_col = [\"Failure Type_Overstrain Failure\",\"Failure Type_Power Failure\" ,\"Failure Type_Random Failures\" ,\"Failure Type_Tool Wear Failure\"]\n",
    "X = dfa[feature_cols]\n",
    "y = dfa[target_col]\n",
    "X_train, X_test, y_train, y_test = train_test_split(X, y, test_size=0.3, random_state=2)"
   ]
  },
  {
   "cell_type": "markdown",
   "id": "863aa24b",
   "metadata": {},
   "source": [
    "Entrenar y evaluar"
   ]
  },
  {
   "cell_type": "code",
   "execution_count": 49,
   "id": "8481b1a2",
   "metadata": {},
   "outputs": [
    {
     "data": {
      "text/plain": [
       "0.8666666666666667"
      ]
     },
     "execution_count": 49,
     "metadata": {},
     "output_type": "execute_result"
    }
   ],
   "source": [
    "clf4 = RandomForestClassifier(max_depth=5, random_state=0)\n",
    "clf4.fit(X_train, y_train)\n",
    "y_pred = clf4.predict(X_test)\n",
    "metrics.accuracy_score(y_pred, y_test)"
   ]
  },
  {
   "cell_type": "code",
   "execution_count": null,
   "id": "b45d9ed7",
   "metadata": {},
   "outputs": [],
   "source": []
  },
  {
   "cell_type": "code",
   "execution_count": null,
   "id": "a80a99fe",
   "metadata": {},
   "outputs": [],
   "source": []
  }
 ],
 "metadata": {
  "kernelspec": {
   "display_name": "Python 3 (ipykernel)",
   "language": "python",
   "name": "python3"
  },
  "language_info": {
   "codemirror_mode": {
    "name": "ipython",
    "version": 3
   },
   "file_extension": ".py",
   "mimetype": "text/x-python",
   "name": "python",
   "nbconvert_exporter": "python",
   "pygments_lexer": "ipython3",
   "version": "3.9.7"
  }
 },
 "nbformat": 4,
 "nbformat_minor": 5
}
